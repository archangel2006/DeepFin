{
  "nbformat": 4,
  "nbformat_minor": 0,
  "metadata": {
    "colab": {
      "provenance": []
    },
    "kernelspec": {
      "name": "python3",
      "display_name": "Python 3"
    },
    "language_info": {
      "name": "python"
    }
  },
  "cells": [
    {
      "cell_type": "code",
      "execution_count": 1,
      "metadata": {
        "id": "PzXv-0_IsFi0"
      },
      "outputs": [],
      "source": [
        "import numpy as np\n",
        "import pandas as pd\n",
        "import matplotlib.pyplot as plt\n",
        "import seaborn as sns"
      ]
    },
    {
      "cell_type": "code",
      "source": [
        "from google.colab import files\n",
        "files.upload()"
      ],
      "metadata": {
        "colab": {
          "base_uri": "https://localhost:8080/",
          "height": 92
        },
        "id": "L-tsXqbUsNjb",
        "outputId": "367ce2ea-e434-44ad-b244-18e032085c16"
      },
      "execution_count": 2,
      "outputs": [
        {
          "output_type": "display_data",
          "data": {
            "text/plain": [
              "<IPython.core.display.HTML object>"
            ],
            "text/html": [
              "\n",
              "     <input type=\"file\" id=\"files-699602b8-8881-458d-adc5-4d8c65aee8fc\" name=\"files[]\" multiple disabled\n",
              "        style=\"border:none\" />\n",
              "     <output id=\"result-699602b8-8881-458d-adc5-4d8c65aee8fc\">\n",
              "      Upload widget is only available when the cell has been executed in the\n",
              "      current browser session. Please rerun this cell to enable.\n",
              "      </output>\n",
              "      <script>// Copyright 2017 Google LLC\n",
              "//\n",
              "// Licensed under the Apache License, Version 2.0 (the \"License\");\n",
              "// you may not use this file except in compliance with the License.\n",
              "// You may obtain a copy of the License at\n",
              "//\n",
              "//      http://www.apache.org/licenses/LICENSE-2.0\n",
              "//\n",
              "// Unless required by applicable law or agreed to in writing, software\n",
              "// distributed under the License is distributed on an \"AS IS\" BASIS,\n",
              "// WITHOUT WARRANTIES OR CONDITIONS OF ANY KIND, either express or implied.\n",
              "// See the License for the specific language governing permissions and\n",
              "// limitations under the License.\n",
              "\n",
              "/**\n",
              " * @fileoverview Helpers for google.colab Python module.\n",
              " */\n",
              "(function(scope) {\n",
              "function span(text, styleAttributes = {}) {\n",
              "  const element = document.createElement('span');\n",
              "  element.textContent = text;\n",
              "  for (const key of Object.keys(styleAttributes)) {\n",
              "    element.style[key] = styleAttributes[key];\n",
              "  }\n",
              "  return element;\n",
              "}\n",
              "\n",
              "// Max number of bytes which will be uploaded at a time.\n",
              "const MAX_PAYLOAD_SIZE = 100 * 1024;\n",
              "\n",
              "function _uploadFiles(inputId, outputId) {\n",
              "  const steps = uploadFilesStep(inputId, outputId);\n",
              "  const outputElement = document.getElementById(outputId);\n",
              "  // Cache steps on the outputElement to make it available for the next call\n",
              "  // to uploadFilesContinue from Python.\n",
              "  outputElement.steps = steps;\n",
              "\n",
              "  return _uploadFilesContinue(outputId);\n",
              "}\n",
              "\n",
              "// This is roughly an async generator (not supported in the browser yet),\n",
              "// where there are multiple asynchronous steps and the Python side is going\n",
              "// to poll for completion of each step.\n",
              "// This uses a Promise to block the python side on completion of each step,\n",
              "// then passes the result of the previous step as the input to the next step.\n",
              "function _uploadFilesContinue(outputId) {\n",
              "  const outputElement = document.getElementById(outputId);\n",
              "  const steps = outputElement.steps;\n",
              "\n",
              "  const next = steps.next(outputElement.lastPromiseValue);\n",
              "  return Promise.resolve(next.value.promise).then((value) => {\n",
              "    // Cache the last promise value to make it available to the next\n",
              "    // step of the generator.\n",
              "    outputElement.lastPromiseValue = value;\n",
              "    return next.value.response;\n",
              "  });\n",
              "}\n",
              "\n",
              "/**\n",
              " * Generator function which is called between each async step of the upload\n",
              " * process.\n",
              " * @param {string} inputId Element ID of the input file picker element.\n",
              " * @param {string} outputId Element ID of the output display.\n",
              " * @return {!Iterable<!Object>} Iterable of next steps.\n",
              " */\n",
              "function* uploadFilesStep(inputId, outputId) {\n",
              "  const inputElement = document.getElementById(inputId);\n",
              "  inputElement.disabled = false;\n",
              "\n",
              "  const outputElement = document.getElementById(outputId);\n",
              "  outputElement.innerHTML = '';\n",
              "\n",
              "  const pickedPromise = new Promise((resolve) => {\n",
              "    inputElement.addEventListener('change', (e) => {\n",
              "      resolve(e.target.files);\n",
              "    });\n",
              "  });\n",
              "\n",
              "  const cancel = document.createElement('button');\n",
              "  inputElement.parentElement.appendChild(cancel);\n",
              "  cancel.textContent = 'Cancel upload';\n",
              "  const cancelPromise = new Promise((resolve) => {\n",
              "    cancel.onclick = () => {\n",
              "      resolve(null);\n",
              "    };\n",
              "  });\n",
              "\n",
              "  // Wait for the user to pick the files.\n",
              "  const files = yield {\n",
              "    promise: Promise.race([pickedPromise, cancelPromise]),\n",
              "    response: {\n",
              "      action: 'starting',\n",
              "    }\n",
              "  };\n",
              "\n",
              "  cancel.remove();\n",
              "\n",
              "  // Disable the input element since further picks are not allowed.\n",
              "  inputElement.disabled = true;\n",
              "\n",
              "  if (!files) {\n",
              "    return {\n",
              "      response: {\n",
              "        action: 'complete',\n",
              "      }\n",
              "    };\n",
              "  }\n",
              "\n",
              "  for (const file of files) {\n",
              "    const li = document.createElement('li');\n",
              "    li.append(span(file.name, {fontWeight: 'bold'}));\n",
              "    li.append(span(\n",
              "        `(${file.type || 'n/a'}) - ${file.size} bytes, ` +\n",
              "        `last modified: ${\n",
              "            file.lastModifiedDate ? file.lastModifiedDate.toLocaleDateString() :\n",
              "                                    'n/a'} - `));\n",
              "    const percent = span('0% done');\n",
              "    li.appendChild(percent);\n",
              "\n",
              "    outputElement.appendChild(li);\n",
              "\n",
              "    const fileDataPromise = new Promise((resolve) => {\n",
              "      const reader = new FileReader();\n",
              "      reader.onload = (e) => {\n",
              "        resolve(e.target.result);\n",
              "      };\n",
              "      reader.readAsArrayBuffer(file);\n",
              "    });\n",
              "    // Wait for the data to be ready.\n",
              "    let fileData = yield {\n",
              "      promise: fileDataPromise,\n",
              "      response: {\n",
              "        action: 'continue',\n",
              "      }\n",
              "    };\n",
              "\n",
              "    // Use a chunked sending to avoid message size limits. See b/62115660.\n",
              "    let position = 0;\n",
              "    do {\n",
              "      const length = Math.min(fileData.byteLength - position, MAX_PAYLOAD_SIZE);\n",
              "      const chunk = new Uint8Array(fileData, position, length);\n",
              "      position += length;\n",
              "\n",
              "      const base64 = btoa(String.fromCharCode.apply(null, chunk));\n",
              "      yield {\n",
              "        response: {\n",
              "          action: 'append',\n",
              "          file: file.name,\n",
              "          data: base64,\n",
              "        },\n",
              "      };\n",
              "\n",
              "      let percentDone = fileData.byteLength === 0 ?\n",
              "          100 :\n",
              "          Math.round((position / fileData.byteLength) * 100);\n",
              "      percent.textContent = `${percentDone}% done`;\n",
              "\n",
              "    } while (position < fileData.byteLength);\n",
              "  }\n",
              "\n",
              "  // All done.\n",
              "  yield {\n",
              "    response: {\n",
              "      action: 'complete',\n",
              "    }\n",
              "  };\n",
              "}\n",
              "\n",
              "scope.google = scope.google || {};\n",
              "scope.google.colab = scope.google.colab || {};\n",
              "scope.google.colab._files = {\n",
              "  _uploadFiles,\n",
              "  _uploadFilesContinue,\n",
              "};\n",
              "})(self);\n",
              "</script> "
            ]
          },
          "metadata": {}
        },
        {
          "output_type": "stream",
          "name": "stdout",
          "text": [
            "Saving kaggle.json to kaggle.json\n"
          ]
        },
        {
          "output_type": "execute_result",
          "data": {
            "text/plain": [
              "{'kaggle.json': b'{\"username\":\"mauryam5\",\"key\":\"730ce15d4989187b0308e1fbf028f7df\"}'}"
            ]
          },
          "metadata": {},
          "execution_count": 2
        }
      ]
    },
    {
      "cell_type": "code",
      "source": [
        "!mkdir -p ~/.kaggle\n",
        "!cp kaggle.json ~/.kaggle/\n",
        "!chmod 600 ~/.kaggle/kaggle.json"
      ],
      "metadata": {
        "id": "ai0aOlWjsNg5"
      },
      "execution_count": 3,
      "outputs": []
    },
    {
      "cell_type": "code",
      "source": [
        "!kaggle datasets download -d tcashion/fao-global-fisheries-capture-amounts"
      ],
      "metadata": {
        "colab": {
          "base_uri": "https://localhost:8080/"
        },
        "id": "yZuNgNrHsNd_",
        "outputId": "6cb2c07d-006a-464b-afcf-3bb92f9b8f0c"
      },
      "execution_count": 4,
      "outputs": [
        {
          "output_type": "stream",
          "name": "stdout",
          "text": [
            "Dataset URL: https://www.kaggle.com/datasets/tcashion/fao-global-fisheries-capture-amounts\n",
            "License(s): CC-BY-SA-3.0\n",
            "Downloading fao-global-fisheries-capture-amounts.zip to /content\n",
            "  0% 0.00/9.40M [00:00<?, ?B/s]\n",
            "100% 9.40M/9.40M [00:00<00:00, 1.72GB/s]\n"
          ]
        }
      ]
    },
    {
      "cell_type": "code",
      "source": [
        "!unzip fao-global-fisheries-capture-amounts.zip -d fisheries_data"
      ],
      "metadata": {
        "colab": {
          "base_uri": "https://localhost:8080/"
        },
        "id": "0hY3nMG1sNbZ",
        "outputId": "1092ed40-57cb-45ad-d265-ae4b6a6fc63e"
      },
      "execution_count": 5,
      "outputs": [
        {
          "output_type": "stream",
          "name": "stdout",
          "text": [
            "Archive:  fao-global-fisheries-capture-amounts.zip\n",
            "  inflating: fisheries_data/CL_FI_COUNTRY_GROUPS.csv  \n",
            "  inflating: fisheries_data/CL_FI_SPECIES_GROUPS.csv  \n",
            "  inflating: fisheries_data/CL_FI_SYMBOL.csv  \n",
            "  inflating: fisheries_data/CL_FI_WATERAREA_GROUPS.csv  \n",
            "  inflating: fisheries_data/CL_History.txt  \n",
            "  inflating: fisheries_data/CL_Index.txt  \n",
            "  inflating: fisheries_data/Capture_E.html  \n",
            "  inflating: fisheries_data/Capture_F.html  \n",
            "  inflating: fisheries_data/Capture_Quantity.csv  \n",
            "  inflating: fisheries_data/Capture_S.html  \n",
            "  inflating: fisheries_data/DSD_FI_CAPTURE.xlsx  \n",
            "  inflating: fisheries_data/FSJ_UNIT.csv  \n",
            "  inflating: fisheries_data/ISSCAAP.pdf  \n",
            "  inflating: fisheries_data/MAP.jpg  \n",
            "  inflating: fisheries_data/NOTES_CAPTURE_COUNTRY_En.html  \n",
            "  inflating: fisheries_data/NOTES_CAPTURE_COUNTRY_Es.html  \n",
            "  inflating: fisheries_data/NOTES_CAPTURE_COUNTRY_Fr.html  \n",
            "  inflating: fisheries_data/ReadMe.txt  \n",
            "  inflating: fisheries_data/capture_quantity_joined.csv  \n"
          ]
        }
      ]
    },
    {
      "cell_type": "code",
      "source": [
        "import os\n",
        "print(os.listdir(\"fisheries_data\"))"
      ],
      "metadata": {
        "colab": {
          "base_uri": "https://localhost:8080/"
        },
        "id": "H8EYNFO6sNYw",
        "outputId": "e568a32c-7e9f-4169-eb34-9d2e067cd3b8"
      },
      "execution_count": 6,
      "outputs": [
        {
          "output_type": "stream",
          "name": "stdout",
          "text": [
            "['Capture_F.html', 'capture_quantity_joined.csv', 'CL_Index.txt', 'CL_FI_SPECIES_GROUPS.csv', 'FSJ_UNIT.csv', 'CL_FI_WATERAREA_GROUPS.csv', 'ISSCAAP.pdf', 'CL_FI_SYMBOL.csv', 'ReadMe.txt', 'CL_History.txt', 'NOTES_CAPTURE_COUNTRY_Fr.html', 'Capture_Quantity.csv', 'DSD_FI_CAPTURE.xlsx', 'CL_FI_COUNTRY_GROUPS.csv', 'MAP.jpg', 'Capture_S.html', 'NOTES_CAPTURE_COUNTRY_En.html', 'Capture_E.html', 'NOTES_CAPTURE_COUNTRY_Es.html']\n"
          ]
        }
      ]
    },
    {
      "cell_type": "code",
      "source": [
        "df = pd.read_csv(\"fisheries_data/Capture_Quantity.csv\")\n",
        "print(df.head())"
      ],
      "metadata": {
        "colab": {
          "base_uri": "https://localhost:8080/"
        },
        "id": "Srccwh4LsNWn",
        "outputId": "80e26922-7624-4141-d7f9-7a2928a37a44"
      },
      "execution_count": 7,
      "outputs": [
        {
          "output_type": "stream",
          "name": "stdout",
          "text": [
            "   COUNTRY.UN_CODE SPECIES.ALPHA_3_CODE  AREA.CODE MEASURE  PERIOD   VALUE  \\\n",
            "0                4                  FRF          4   Q_tlw    2021  1500.0   \n",
            "1                4                  FRF          4   Q_tlw    2020  2000.0   \n",
            "2                4                  FRF          4   Q_tlw    2019  2100.0   \n",
            "3                4                  FRF          4   Q_tlw    2018  2050.0   \n",
            "4                4                  FRF          4   Q_tlw    2017  2000.0   \n",
            "\n",
            "  STATUS  \n",
            "0      E  \n",
            "1      E  \n",
            "2      E  \n",
            "3      E  \n",
            "4      E  \n"
          ]
        }
      ]
    },
    {
      "cell_type": "code",
      "source": [
        "india_df = df[df[\"COUNTRY.UN_CODE\"] == 356].copy()"
      ],
      "metadata": {
        "id": "zhBlssbUsNUG"
      },
      "execution_count": 8,
      "outputs": []
    },
    {
      "cell_type": "code",
      "source": [
        "india_df = india_df[['PERIOD', 'AREA.CODE', 'SPECIES.ALPHA_3_CODE', 'VALUE', 'STATUS']]"
      ],
      "metadata": {
        "id": "Vo9xEnQosNRi"
      },
      "execution_count": 9,
      "outputs": []
    },
    {
      "cell_type": "code",
      "source": [
        "india_df.to_csv(\"india_fisheries_data.csv\", index=False)"
      ],
      "metadata": {
        "id": "4LXyh5Xvumaj"
      },
      "execution_count": 10,
      "outputs": []
    },
    {
      "cell_type": "code",
      "source": [
        "import os\n",
        "import pandas as pd\n",
        "import numpy as np\n",
        "from prophet import Prophet\n",
        "from sklearn.metrics import mean_absolute_error, mean_squared_error\n",
        "import matplotlib.pyplot as plt\n",
        "import pickle"
      ],
      "metadata": {
        "id": "ueAugsvQvJ6o"
      },
      "execution_count": 12,
      "outputs": []
    },
    {
      "cell_type": "code",
      "source": [
        "INPUT_CSV = \"/content/india_fisheries_data.csv\"          # <--- REPLACE with your CSV path\n",
        "OUTPUT_PICKLE = \"prophet_species_models.pkl\"\n",
        "PLOTS_DIR = \"species_plots\"\n",
        "MIN_YEARS_PER_SPECIES = 5           # min years required to train species model\n",
        "FORECAST_YEARS = 6                  # predict 1 year ahead by default\n",
        "MSY_FACTOR = 1.2                    # MSY proxy = mean historical * MSY_FACTOR\n",
        "# ----------------------------------------------------------\n",
        "\n",
        "os.makedirs(PLOTS_DIR, exist_ok=True)\n",
        "\n",
        "# ------------------------- 1) LOAD -------------------------\n",
        "df = pd.read_csv(INPUT_CSV)\n",
        "\n",
        "# Example dataset columns expected:\n",
        "# PERIOD (year), AREA.CODE (zone), SPECIES.ALPHA_3_CODE (species), VALUE (catch), STATUS (char)\n",
        "\n",
        "# Normalize column names\n",
        "df = df.rename(columns={\n",
        "    'PERIOD': 'year',\n",
        "    'AREA.CODE': 'area_code',\n",
        "    'SPECIES.ALPHA_3_CODE': 'species',\n",
        "    'VALUE': 'value',\n",
        "    'STATUS': 'status'\n",
        "})\n",
        "\n",
        "# Keep required columns and drop NA\n",
        "df = df[['year','area_code','species','value','status']].dropna(subset=['year','species','value'])\n",
        "df['year'] = df['year'].astype(int)\n",
        "df['value'] = pd.to_numeric(df['value'], errors='coerce')\n",
        "df = df.dropna(subset=['value'])\n",
        "\n",
        "# Create Prophet date column (yearly frequency)\n",
        "df['ds'] = pd.to_datetime(df['year'].astype(str) + \"-01-01\")\n",
        "\n",
        "# ------------------------- 2) One-hot encode global categoricals -------------------------\n",
        "# We create dummy columns globally so all species models share identical regressor names.\n",
        "cat_cols = ['area_code', 'status']\n",
        "df_cat = pd.get_dummies(df[cat_cols].astype(str), prefix=cat_cols, drop_first=False)\n",
        "df_full = pd.concat([df[['ds','year','species','value']], df_cat], axis=1).rename(columns={'value':'y'})\n",
        "\n",
        "# Prepare list of regressor column names\n",
        "regressor_cols = [c for c in df_full.columns if c not in ['ds','year','species','y']]\n",
        "\n",
        "# ------------------------- 3) Train per-species Prophet models -------------------------\n",
        "species_list = sorted(df_full['species'].unique())\n",
        "models_info = {}  # will hold per-species model & metadata\n",
        "\n",
        "for sp in species_list:\n",
        "    df_sp = df_full[df_full['species'] == sp].sort_values('ds').reset_index(drop=True)\n",
        "    n_years = df_sp['year'].nunique()\n",
        "    if n_years < MIN_YEARS_PER_SPECIES:\n",
        "        print(f\"Skipping {sp}: only {n_years} years (need >= {MIN_YEARS_PER_SPECIES})\")\n",
        "        continue\n",
        "\n",
        "    # Train/test split: keep last 1-2 years for test (heuristic)\n",
        "    holdout_years = min(2, max(1, int(n_years * 0.2)))\n",
        "    split_idx = len(df_sp) - holdout_years\n",
        "    train_df = df_sp.iloc[:split_idx].copy()\n",
        "    test_df = df_sp.iloc[split_idx:].copy()\n",
        "\n",
        "    # Build Prophet model with regressors\n",
        "    m = Prophet(yearly_seasonality=True, weekly_seasonality=False, daily_seasonality=False)\n",
        "    for r in regressor_cols:\n",
        "        m.add_regressor(r)\n",
        "\n",
        "    # Fit model (provide df with ds,y and regressors)\n",
        "    fit_df = train_df[['ds','y'] + regressor_cols]\n",
        "    try:\n",
        "        m.fit(fit_df)\n",
        "    except Exception as e:\n",
        "        print(f\"[ERROR] Fit failed for {sp}: {e}\")\n",
        "        continue\n",
        "\n",
        "    # Evaluate on test set: create a future frame for train+test (prophet needs regressors)\n",
        "    future_eval = pd.concat([train_df[['ds'] + regressor_cols], test_df[['ds'] + regressor_cols]], ignore_index=True)\n",
        "    forecast_eval = m.predict(future_eval)\n",
        "    # Align final test predictions\n",
        "    yhat_test = forecast_eval['yhat'].values[-len(test_df):]\n",
        "    y_true = test_df['y'].values\n",
        "\n",
        "    mae = mean_absolute_error(y_true, yhat_test)\n",
        "    rmse = (mean_squared_error(y_true, yhat_test)) ** 0.5\n",
        "    mape = (np.mean(np.abs((y_true - yhat_test) / np.maximum(y_true, 1))) * 100)\n",
        "\n",
        "    # MSY proxy and next-year forecast\n",
        "    msy_est = float(df_sp['y'].mean() * MSY_FACTOR)\n",
        "\n",
        "    # Build regressor rows for future forecast: copy last observed regressor values\n",
        "    last_row = df_sp.iloc[-1]\n",
        "    future_rows = []\n",
        "    for yr in range(2025, 2031):  # 2025 to 2030 inclusive\n",
        "        ds_val = pd.to_datetime(f\"{yr}-01-01\")\n",
        "        row = {col: last_row[col] if col in last_row.index else 0 for col in regressor_cols}\n",
        "        row['ds'] = ds_val\n",
        "        future_rows.append(row)\n",
        "    future_reg_df = pd.DataFrame(future_rows)[['ds'] + regressor_cols]\n",
        "    future_forecast = m.predict(future_reg_df)\n",
        "    predicted_val = float(future_forecast['yhat'].iloc[0])\n",
        "\n",
        "    overfishing_flag = bool(predicted_val > msy_est)\n",
        "    exploitation_ratio = float(predicted_val / (msy_est if msy_est != 0 else 1.0))\n",
        "\n",
        "    # Save info\n",
        "    models_info[sp] = {\n",
        "        'model': m,\n",
        "        'regressors': regressor_cols,\n",
        "        'mae': float(mae),\n",
        "        'rmse': float(rmse),\n",
        "        'mape': float(mape),\n",
        "        'msy': msy_est,\n",
        "        'predicted_next_year': predicted_val,\n",
        "        'exploitation_ratio': exploitation_ratio,\n",
        "        'overfishing_flag': overfishing_flag,\n",
        "        'history': df_sp[['ds','y']].copy(),\n",
        "        'future_forecast_df': future_forecast[['ds','yhat','yhat_lower','yhat_upper']].copy()\n",
        "    }\n",
        "\n",
        "    # Plot history + forecast\n",
        "    # Create combined regressor frame (history + future) for plotting forecast line\n",
        "    combined_reg_df = pd.concat([df_sp[['ds'] + regressor_cols], future_reg_df], ignore_index=True)\n",
        "    combined_forecast = m.predict(combined_reg_df)\n",
        "\n",
        "    plt.figure(figsize=(8,4))\n",
        "    plt.plot(df_sp['ds'], df_sp['y'], marker='o', label='Historical')\n",
        "    plt.plot(combined_reg_df['ds'], combined_forecast['yhat'], linestyle='--', label='Forecast')\n",
        "    plt.axhline(msy_est, color='green', linestyle='--', label='MSY (proxy)')\n",
        "    plt.scatter([combined_reg_df['ds'].iloc[-1]], [predicted_val], color='red', label='Predicted next')\n",
        "    plt.title(f\"{sp} | PredNext: {predicted_val:.1f} | MSY: {msy_est:.1f} | Overfishing: {overfishing_flag}\")\n",
        "    plt.xlabel(\"Year\")\n",
        "    plt.ylabel(\"Catch (VALUE)\")\n",
        "    plt.legend()\n",
        "    plt.tight_layout()\n",
        "    plt.savefig(os.path.join(PLOTS_DIR, f\"{sp}_forecast.png\"))\n",
        "    plt.close()\n",
        "\n",
        "    print(f\"Trained {sp}: years={n_years}, MAE={mae:.1f}, RMSE={rmse:.1f}, MAPE={mape:.2f}%, PredNext={predicted_val:.1f}, MSY={msy_est:.1f}, Overfishing={overfishing_flag}\")\n",
        "\n",
        "# ------------------------- 4) Save models and metadata -------------------------\n",
        "# Build save dict with model objects and metadata\n",
        "save_dict = {\n",
        "    'regressor_cols': regressor_cols,\n",
        "    'species_trained': list(models_info.keys()),\n",
        "    'models_info': {}\n",
        "}\n",
        "\n",
        "for sp, info in models_info.items():\n",
        "    # store model object and metadata (avoid storing heavy history if undesired)\n",
        "    save_dict['models_info'][sp] = {\n",
        "        'model': info['model'],\n",
        "        'regressors': info['regressors'],\n",
        "        'mae': info['mae'],\n",
        "        'rmse': info['rmse'],\n",
        "        'mape': info['mape'],\n",
        "        'msy': info['msy'],\n",
        "        'predicted_next_year': info['predicted_next_year'],\n",
        "        'exploitation_ratio': info['exploitation_ratio'],\n",
        "        'overfishing_flag': info['overfishing_flag']\n",
        "    }\n",
        "\n",
        "with open(OUTPUT_PICKLE, 'wb') as f:\n",
        "    pickle.dump(save_dict, f)\n",
        "\n",
        "print(f\"\\nSaved models & metadata to {OUTPUT_PICKLE}\")\n",
        "print(f\"Saved plots to directory: {PLOTS_DIR}\")"
      ],
      "metadata": {
        "colab": {
          "base_uri": "https://localhost:8080/"
        },
        "id": "r8WdKTt4sNO6",
        "outputId": "96441c4b-1629-4c1f-b5cd-074b26a42a39"
      },
      "execution_count": 18,
      "outputs": [
        {
          "output_type": "stream",
          "name": "stderr",
          "text": [
            "DEBUG:cmdstanpy:input tempfile: /tmp/tmp4ejm6sh6/tbw8na15.json\n",
            "DEBUG:cmdstanpy:input tempfile: /tmp/tmp4ejm6sh6/x2rvsi91.json\n",
            "DEBUG:cmdstanpy:idx 0\n",
            "DEBUG:cmdstanpy:running CmdStan, num_threads: None\n",
            "DEBUG:cmdstanpy:CmdStan args: ['/usr/local/lib/python3.12/dist-packages/prophet/stan_model/prophet_model.bin', 'random', 'seed=24359', 'data', 'file=/tmp/tmp4ejm6sh6/tbw8na15.json', 'init=/tmp/tmp4ejm6sh6/x2rvsi91.json', 'output', 'file=/tmp/tmp4ejm6sh6/prophet_modelfa1oqdwq/prophet_model-20250923181902.csv', 'method=optimize', 'algorithm=lbfgs', 'iter=10000']\n",
            "18:19:02 - cmdstanpy - INFO - Chain [1] start processing\n",
            "INFO:cmdstanpy:Chain [1] start processing\n",
            "18:19:02 - cmdstanpy - INFO - Chain [1] done processing\n",
            "INFO:cmdstanpy:Chain [1] done processing\n",
            "DEBUG:cmdstanpy:input tempfile: /tmp/tmp4ejm6sh6/hcwruiem.json\n",
            "DEBUG:cmdstanpy:input tempfile: /tmp/tmp4ejm6sh6/da1r717b.json\n",
            "DEBUG:cmdstanpy:idx 0\n",
            "DEBUG:cmdstanpy:running CmdStan, num_threads: None\n",
            "DEBUG:cmdstanpy:CmdStan args: ['/usr/local/lib/python3.12/dist-packages/prophet/stan_model/prophet_model.bin', 'random', 'seed=59923', 'data', 'file=/tmp/tmp4ejm6sh6/hcwruiem.json', 'init=/tmp/tmp4ejm6sh6/da1r717b.json', 'output', 'file=/tmp/tmp4ejm6sh6/prophet_modelb4xepiv0/prophet_model-20250923181903.csv', 'method=optimize', 'algorithm=lbfgs', 'iter=10000']\n",
            "18:19:03 - cmdstanpy - INFO - Chain [1] start processing\n",
            "INFO:cmdstanpy:Chain [1] start processing\n",
            "18:19:03 - cmdstanpy - INFO - Chain [1] done processing\n",
            "INFO:cmdstanpy:Chain [1] done processing\n"
          ]
        },
        {
          "output_type": "stream",
          "name": "stdout",
          "text": [
            "Trained ALB: years=72, MAE=27.5, RMSE=27.5, MAPE=2747.46%, PredNext=29.6, MSY=11.6, Overfishing=True\n"
          ]
        },
        {
          "output_type": "stream",
          "name": "stderr",
          "text": [
            "DEBUG:cmdstanpy:input tempfile: /tmp/tmp4ejm6sh6/jsccpqfv.json\n",
            "DEBUG:cmdstanpy:input tempfile: /tmp/tmp4ejm6sh6/y8hg1swy.json\n",
            "DEBUG:cmdstanpy:idx 0\n",
            "DEBUG:cmdstanpy:running CmdStan, num_threads: None\n",
            "DEBUG:cmdstanpy:CmdStan args: ['/usr/local/lib/python3.12/dist-packages/prophet/stan_model/prophet_model.bin', 'random', 'seed=27749', 'data', 'file=/tmp/tmp4ejm6sh6/jsccpqfv.json', 'init=/tmp/tmp4ejm6sh6/y8hg1swy.json', 'output', 'file=/tmp/tmp4ejm6sh6/prophet_modeltfiqamkg/prophet_model-20250923181903.csv', 'method=optimize', 'algorithm=lbfgs', 'iter=10000']\n",
            "18:19:03 - cmdstanpy - INFO - Chain [1] start processing\n",
            "INFO:cmdstanpy:Chain [1] start processing\n",
            "18:19:03 - cmdstanpy - INFO - Chain [1] done processing\n",
            "INFO:cmdstanpy:Chain [1] done processing\n"
          ]
        },
        {
          "output_type": "stream",
          "name": "stdout",
          "text": [
            "Trained ANX: years=72, MAE=9977.2, RMSE=10615.7, MAPE=24.42%, PredNext=62624.6, MSY=39462.0, Overfishing=True\n"
          ]
        },
        {
          "output_type": "stream",
          "name": "stderr",
          "text": [
            "DEBUG:cmdstanpy:input tempfile: /tmp/tmp4ejm6sh6/bz2182us.json\n",
            "DEBUG:cmdstanpy:input tempfile: /tmp/tmp4ejm6sh6/1t8yriv9.json\n",
            "DEBUG:cmdstanpy:idx 0\n",
            "DEBUG:cmdstanpy:running CmdStan, num_threads: None\n",
            "DEBUG:cmdstanpy:CmdStan args: ['/usr/local/lib/python3.12/dist-packages/prophet/stan_model/prophet_model.bin', 'random', 'seed=39111', 'data', 'file=/tmp/tmp4ejm6sh6/bz2182us.json', 'init=/tmp/tmp4ejm6sh6/1t8yriv9.json', 'output', 'file=/tmp/tmp4ejm6sh6/prophet_modelqdalgz0g/prophet_model-20250923181904.csv', 'method=optimize', 'algorithm=lbfgs', 'iter=10000']\n",
            "18:19:04 - cmdstanpy - INFO - Chain [1] start processing\n",
            "INFO:cmdstanpy:Chain [1] start processing\n",
            "18:19:04 - cmdstanpy - INFO - Chain [1] done processing\n",
            "INFO:cmdstanpy:Chain [1] done processing\n"
          ]
        },
        {
          "output_type": "stream",
          "name": "stdout",
          "text": [
            "Trained BAR: years=69, MAE=4006.1, RMSE=4421.4, MAPE=20.00%, PredNext=16432.4, MSY=5048.1, Overfishing=True\n"
          ]
        },
        {
          "output_type": "stream",
          "name": "stderr",
          "text": [
            "INFO:prophet:n_changepoints greater than number of observations. Using 9.\n",
            "DEBUG:cmdstanpy:input tempfile: /tmp/tmp4ejm6sh6/c74fv0h1.json\n",
            "DEBUG:cmdstanpy:input tempfile: /tmp/tmp4ejm6sh6/5wkui8n4.json\n",
            "DEBUG:cmdstanpy:idx 0\n",
            "DEBUG:cmdstanpy:running CmdStan, num_threads: None\n",
            "DEBUG:cmdstanpy:CmdStan args: ['/usr/local/lib/python3.12/dist-packages/prophet/stan_model/prophet_model.bin', 'random', 'seed=60215', 'data', 'file=/tmp/tmp4ejm6sh6/c74fv0h1.json', 'init=/tmp/tmp4ejm6sh6/5wkui8n4.json', 'output', 'file=/tmp/tmp4ejm6sh6/prophet_modelxofpisj1/prophet_model-20250923181904.csv', 'method=optimize', 'algorithm=newton', 'iter=10000']\n",
            "18:19:04 - cmdstanpy - INFO - Chain [1] start processing\n",
            "INFO:cmdstanpy:Chain [1] start processing\n",
            "18:19:04 - cmdstanpy - INFO - Chain [1] done processing\n",
            "INFO:cmdstanpy:Chain [1] done processing\n"
          ]
        },
        {
          "output_type": "stream",
          "name": "stdout",
          "text": [
            "Trained BET: years=72, MAE=373.4, RMSE=458.2, MAPE=429.86%, PredNext=844.6, MSY=267.2, Overfishing=True\n"
          ]
        },
        {
          "output_type": "stream",
          "name": "stderr",
          "text": [
            "DEBUG:cmdstanpy:input tempfile: /tmp/tmp4ejm6sh6/vtzx9xd3.json\n",
            "DEBUG:cmdstanpy:input tempfile: /tmp/tmp4ejm6sh6/m9w782yc.json\n",
            "DEBUG:cmdstanpy:idx 0\n",
            "DEBUG:cmdstanpy:running CmdStan, num_threads: None\n",
            "DEBUG:cmdstanpy:CmdStan args: ['/usr/local/lib/python3.12/dist-packages/prophet/stan_model/prophet_model.bin', 'random', 'seed=37385', 'data', 'file=/tmp/tmp4ejm6sh6/vtzx9xd3.json', 'init=/tmp/tmp4ejm6sh6/m9w782yc.json', 'output', 'file=/tmp/tmp4ejm6sh6/prophet_model0zue_qba/prophet_model-20250923181905.csv', 'method=optimize', 'algorithm=lbfgs', 'iter=10000']\n",
            "18:19:05 - cmdstanpy - INFO - Chain [1] start processing\n",
            "INFO:cmdstanpy:Chain [1] start processing\n",
            "18:19:05 - cmdstanpy - INFO - Chain [1] done processing\n",
            "INFO:cmdstanpy:Chain [1] done processing\n"
          ]
        },
        {
          "output_type": "stream",
          "name": "stdout",
          "text": [
            "Trained BIG: years=7, MAE=16848.2, RMSE=16848.2, MAPE=228.79%, PredNext=-79396.4, MSY=41001.9, Overfishing=False\n"
          ]
        },
        {
          "output_type": "stream",
          "name": "stderr",
          "text": [
            "DEBUG:cmdstanpy:input tempfile: /tmp/tmp4ejm6sh6/3wpw_8u4.json\n",
            "DEBUG:cmdstanpy:input tempfile: /tmp/tmp4ejm6sh6/aiij8sq3.json\n",
            "DEBUG:cmdstanpy:idx 0\n"
          ]
        },
        {
          "output_type": "stream",
          "name": "stdout",
          "text": [
            "Trained BIL: years=72, MAE=54.8, RMSE=54.9, MAPE=5477.22%, PredNext=54.4, MSY=24.1, Overfishing=True\n"
          ]
        },
        {
          "output_type": "stream",
          "name": "stderr",
          "text": [
            "DEBUG:cmdstanpy:running CmdStan, num_threads: None\n",
            "DEBUG:cmdstanpy:CmdStan args: ['/usr/local/lib/python3.12/dist-packages/prophet/stan_model/prophet_model.bin', 'random', 'seed=40802', 'data', 'file=/tmp/tmp4ejm6sh6/3wpw_8u4.json', 'init=/tmp/tmp4ejm6sh6/aiij8sq3.json', 'output', 'file=/tmp/tmp4ejm6sh6/prophet_modelpg95kol7/prophet_model-20250923181907.csv', 'method=optimize', 'algorithm=lbfgs', 'iter=10000']\n",
            "18:19:07 - cmdstanpy - INFO - Chain [1] start processing\n",
            "INFO:cmdstanpy:Chain [1] start processing\n",
            "18:19:07 - cmdstanpy - INFO - Chain [1] done processing\n",
            "INFO:cmdstanpy:Chain [1] done processing\n",
            "DEBUG:cmdstanpy:input tempfile: /tmp/tmp4ejm6sh6/c3ec365x.json\n",
            "DEBUG:cmdstanpy:input tempfile: /tmp/tmp4ejm6sh6/4wfxtda9.json\n",
            "DEBUG:cmdstanpy:idx 0\n",
            "DEBUG:cmdstanpy:running CmdStan, num_threads: None\n",
            "DEBUG:cmdstanpy:CmdStan args: ['/usr/local/lib/python3.12/dist-packages/prophet/stan_model/prophet_model.bin', 'random', 'seed=18194', 'data', 'file=/tmp/tmp4ejm6sh6/c3ec365x.json', 'init=/tmp/tmp4ejm6sh6/4wfxtda9.json', 'output', 'file=/tmp/tmp4ejm6sh6/prophet_modelgbixwhge/prophet_model-20250923181907.csv', 'method=optimize', 'algorithm=lbfgs', 'iter=10000']\n",
            "18:19:07 - cmdstanpy - INFO - Chain [1] start processing\n",
            "INFO:cmdstanpy:Chain [1] start processing\n",
            "18:19:07 - cmdstanpy - INFO - Chain [1] done processing\n",
            "INFO:cmdstanpy:Chain [1] done processing\n"
          ]
        },
        {
          "output_type": "stream",
          "name": "stdout",
          "text": [
            "Trained BIP: years=72, MAE=147.7, RMSE=148.8, MAPE=29.68%, PredNext=425.4, MSY=141.7, Overfishing=True\n"
          ]
        },
        {
          "output_type": "stream",
          "name": "stderr",
          "text": [
            "DEBUG:cmdstanpy:input tempfile: /tmp/tmp4ejm6sh6/hzi8tp3i.json\n",
            "DEBUG:cmdstanpy:input tempfile: /tmp/tmp4ejm6sh6/3omev0ru.json\n",
            "DEBUG:cmdstanpy:idx 0\n",
            "DEBUG:cmdstanpy:running CmdStan, num_threads: None\n",
            "DEBUG:cmdstanpy:CmdStan args: ['/usr/local/lib/python3.12/dist-packages/prophet/stan_model/prophet_model.bin', 'random', 'seed=21709', 'data', 'file=/tmp/tmp4ejm6sh6/hzi8tp3i.json', 'init=/tmp/tmp4ejm6sh6/3omev0ru.json', 'output', 'file=/tmp/tmp4ejm6sh6/prophet_model5tftf7o0/prophet_model-20250923181908.csv', 'method=optimize', 'algorithm=lbfgs', 'iter=10000']\n",
            "18:19:08 - cmdstanpy - INFO - Chain [1] start processing\n",
            "INFO:cmdstanpy:Chain [1] start processing\n",
            "18:19:08 - cmdstanpy - INFO - Chain [1] done processing\n",
            "INFO:cmdstanpy:Chain [1] done processing\n"
          ]
        },
        {
          "output_type": "stream",
          "name": "stdout",
          "text": [
            "Trained BLM: years=72, MAE=494.8, RMSE=571.9, MAPE=40.25%, PredNext=1721.1, MSY=464.8, Overfishing=True\n"
          ]
        },
        {
          "output_type": "stream",
          "name": "stderr",
          "text": [
            "DEBUG:cmdstanpy:input tempfile: /tmp/tmp4ejm6sh6/v10xhfs2.json\n",
            "DEBUG:cmdstanpy:input tempfile: /tmp/tmp4ejm6sh6/2tyouda7.json\n",
            "DEBUG:cmdstanpy:idx 0\n",
            "DEBUG:cmdstanpy:running CmdStan, num_threads: None\n",
            "DEBUG:cmdstanpy:CmdStan args: ['/usr/local/lib/python3.12/dist-packages/prophet/stan_model/prophet_model.bin', 'random', 'seed=64803', 'data', 'file=/tmp/tmp4ejm6sh6/v10xhfs2.json', 'init=/tmp/tmp4ejm6sh6/2tyouda7.json', 'output', 'file=/tmp/tmp4ejm6sh6/prophet_modeltheos_v7/prophet_model-20250923181909.csv', 'method=optimize', 'algorithm=lbfgs', 'iter=10000']\n",
            "18:19:09 - cmdstanpy - INFO - Chain [1] start processing\n",
            "INFO:cmdstanpy:Chain [1] start processing\n",
            "18:19:09 - cmdstanpy - INFO - Chain [1] done processing\n",
            "INFO:cmdstanpy:Chain [1] done processing\n"
          ]
        },
        {
          "output_type": "stream",
          "name": "stdout",
          "text": [
            "Trained BLT: years=72, MAE=1539.8, RMSE=1628.6, MAPE=266.23%, PredNext=3706.1, MSY=797.3, Overfishing=True\n"
          ]
        },
        {
          "output_type": "stream",
          "name": "stderr",
          "text": [
            "DEBUG:cmdstanpy:input tempfile: /tmp/tmp4ejm6sh6/hqshcjxe.json\n",
            "DEBUG:cmdstanpy:input tempfile: /tmp/tmp4ejm6sh6/otaz8pbh.json\n",
            "DEBUG:cmdstanpy:idx 0\n",
            "DEBUG:cmdstanpy:running CmdStan, num_threads: None\n",
            "DEBUG:cmdstanpy:CmdStan args: ['/usr/local/lib/python3.12/dist-packages/prophet/stan_model/prophet_model.bin', 'random', 'seed=50924', 'data', 'file=/tmp/tmp4ejm6sh6/hqshcjxe.json', 'init=/tmp/tmp4ejm6sh6/otaz8pbh.json', 'output', 'file=/tmp/tmp4ejm6sh6/prophet_modelkdef51ba/prophet_model-20250923181909.csv', 'method=optimize', 'algorithm=lbfgs', 'iter=10000']\n",
            "18:19:09 - cmdstanpy - INFO - Chain [1] start processing\n",
            "INFO:cmdstanpy:Chain [1] start processing\n",
            "18:19:09 - cmdstanpy - INFO - Chain [1] done processing\n",
            "INFO:cmdstanpy:Chain [1] done processing\n"
          ]
        },
        {
          "output_type": "stream",
          "name": "stdout",
          "text": [
            "Trained BUC: years=72, MAE=28199.1, RMSE=37132.3, MAPE=236.82%, PredNext=737.3, MSY=53566.2, Overfishing=False\n"
          ]
        },
        {
          "output_type": "stream",
          "name": "stderr",
          "text": [
            "DEBUG:cmdstanpy:input tempfile: /tmp/tmp4ejm6sh6/n1bom2_8.json\n",
            "DEBUG:cmdstanpy:input tempfile: /tmp/tmp4ejm6sh6/pwcezr3u.json\n",
            "DEBUG:cmdstanpy:idx 0\n",
            "DEBUG:cmdstanpy:running CmdStan, num_threads: None\n",
            "DEBUG:cmdstanpy:CmdStan args: ['/usr/local/lib/python3.12/dist-packages/prophet/stan_model/prophet_model.bin', 'random', 'seed=52062', 'data', 'file=/tmp/tmp4ejm6sh6/n1bom2_8.json', 'init=/tmp/tmp4ejm6sh6/pwcezr3u.json', 'output', 'file=/tmp/tmp4ejm6sh6/prophet_model41tgira0/prophet_model-20250923181909.csv', 'method=optimize', 'algorithm=lbfgs', 'iter=10000']\n",
            "18:19:09 - cmdstanpy - INFO - Chain [1] start processing\n",
            "INFO:cmdstanpy:Chain [1] start processing\n",
            "18:19:09 - cmdstanpy - INFO - Chain [1] done processing\n",
            "INFO:cmdstanpy:Chain [1] done processing\n"
          ]
        },
        {
          "output_type": "stream",
          "name": "stdout",
          "text": [
            "Trained BUM: years=72, MAE=442.8, RMSE=559.6, MAPE=76.74%, PredNext=263.8, MSY=64.1, Overfishing=True\n"
          ]
        },
        {
          "output_type": "stream",
          "name": "stderr",
          "text": [
            "DEBUG:cmdstanpy:input tempfile: /tmp/tmp4ejm6sh6/si31ye_j.json\n",
            "DEBUG:cmdstanpy:input tempfile: /tmp/tmp4ejm6sh6/w2xcyz94.json\n",
            "DEBUG:cmdstanpy:idx 0\n",
            "DEBUG:cmdstanpy:running CmdStan, num_threads: None\n",
            "DEBUG:cmdstanpy:CmdStan args: ['/usr/local/lib/python3.12/dist-packages/prophet/stan_model/prophet_model.bin', 'random', 'seed=999', 'data', 'file=/tmp/tmp4ejm6sh6/si31ye_j.json', 'init=/tmp/tmp4ejm6sh6/w2xcyz94.json', 'output', 'file=/tmp/tmp4ejm6sh6/prophet_modeldkd8vqd2/prophet_model-20250923181910.csv', 'method=optimize', 'algorithm=lbfgs', 'iter=10000']\n",
            "18:19:10 - cmdstanpy - INFO - Chain [1] start processing\n",
            "INFO:cmdstanpy:Chain [1] start processing\n",
            "18:19:10 - cmdstanpy - INFO - Chain [1] done processing\n",
            "INFO:cmdstanpy:Chain [1] done processing\n"
          ]
        },
        {
          "output_type": "stream",
          "name": "stdout",
          "text": [
            "Trained BUX: years=72, MAE=8145.3, RMSE=8625.5, MAPE=42.68%, PredNext=28931.6, MSY=20599.7, Overfishing=True\n"
          ]
        },
        {
          "output_type": "stream",
          "name": "stderr",
          "text": [
            "INFO:prophet:n_changepoints greater than number of observations. Using 13.\n"
          ]
        },
        {
          "output_type": "stream",
          "name": "stdout",
          "text": [
            "Trained CAX: years=72, MAE=10431.3, RMSE=10472.3, MAPE=37.17%, PredNext=43516.4, MSY=34962.0, Overfishing=True\n"
          ]
        },
        {
          "output_type": "stream",
          "name": "stderr",
          "text": [
            "DEBUG:cmdstanpy:input tempfile: /tmp/tmp4ejm6sh6/3tyrgdxw.json\n",
            "DEBUG:cmdstanpy:input tempfile: /tmp/tmp4ejm6sh6/kljolsbx.json\n",
            "DEBUG:cmdstanpy:idx 0\n",
            "DEBUG:cmdstanpy:running CmdStan, num_threads: None\n",
            "DEBUG:cmdstanpy:CmdStan args: ['/usr/local/lib/python3.12/dist-packages/prophet/stan_model/prophet_model.bin', 'random', 'seed=13243', 'data', 'file=/tmp/tmp4ejm6sh6/3tyrgdxw.json', 'init=/tmp/tmp4ejm6sh6/kljolsbx.json', 'output', 'file=/tmp/tmp4ejm6sh6/prophet_model2yvkdy97/prophet_model-20250923181911.csv', 'method=optimize', 'algorithm=lbfgs', 'iter=10000']\n",
            "18:19:11 - cmdstanpy - INFO - Chain [1] start processing\n",
            "INFO:cmdstanpy:Chain [1] start processing\n",
            "18:19:11 - cmdstanpy - INFO - Chain [1] done processing\n",
            "INFO:cmdstanpy:Chain [1] done processing\n"
          ]
        },
        {
          "output_type": "stream",
          "name": "stdout",
          "text": [
            "Trained CBA: years=10, MAE=0.0, RMSE=0.0, MAPE=0.00%, PredNext=0.0, MSY=0.0, Overfishing=False\n"
          ]
        },
        {
          "output_type": "stream",
          "name": "stderr",
          "text": [
            "DEBUG:cmdstanpy:input tempfile: /tmp/tmp4ejm6sh6/q0vh5ijo.json\n",
            "DEBUG:cmdstanpy:input tempfile: /tmp/tmp4ejm6sh6/vw_ppmc4.json\n",
            "DEBUG:cmdstanpy:idx 0\n",
            "DEBUG:cmdstanpy:running CmdStan, num_threads: None\n",
            "DEBUG:cmdstanpy:CmdStan args: ['/usr/local/lib/python3.12/dist-packages/prophet/stan_model/prophet_model.bin', 'random', 'seed=74441', 'data', 'file=/tmp/tmp4ejm6sh6/q0vh5ijo.json', 'init=/tmp/tmp4ejm6sh6/vw_ppmc4.json', 'output', 'file=/tmp/tmp4ejm6sh6/prophet_modelkgy7mppa/prophet_model-20250923181911.csv', 'method=optimize', 'algorithm=lbfgs', 'iter=10000']\n",
            "18:19:11 - cmdstanpy - INFO - Chain [1] start processing\n",
            "INFO:cmdstanpy:Chain [1] start processing\n",
            "18:19:11 - cmdstanpy - INFO - Chain [1] done processing\n",
            "INFO:cmdstanpy:Chain [1] done processing\n"
          ]
        },
        {
          "output_type": "stream",
          "name": "stdout",
          "text": [
            "Trained CDX: years=72, MAE=27580.3, RMSE=36241.0, MAPE=213.09%, PredNext=5590.3, MSY=63349.2, Overfishing=False\n"
          ]
        },
        {
          "output_type": "stream",
          "name": "stderr",
          "text": [
            "DEBUG:cmdstanpy:input tempfile: /tmp/tmp4ejm6sh6/c46rikv7.json\n",
            "DEBUG:cmdstanpy:input tempfile: /tmp/tmp4ejm6sh6/nbazpmoz.json\n",
            "DEBUG:cmdstanpy:idx 0\n",
            "DEBUG:cmdstanpy:running CmdStan, num_threads: None\n",
            "DEBUG:cmdstanpy:CmdStan args: ['/usr/local/lib/python3.12/dist-packages/prophet/stan_model/prophet_model.bin', 'random', 'seed=94312', 'data', 'file=/tmp/tmp4ejm6sh6/c46rikv7.json', 'init=/tmp/tmp4ejm6sh6/nbazpmoz.json', 'output', 'file=/tmp/tmp4ejm6sh6/prophet_modell2y0gh75/prophet_model-20250923181912.csv', 'method=optimize', 'algorithm=lbfgs', 'iter=10000']\n",
            "18:19:12 - cmdstanpy - INFO - Chain [1] start processing\n",
            "INFO:cmdstanpy:Chain [1] start processing\n",
            "18:19:12 - cmdstanpy - INFO - Chain [1] done processing\n",
            "INFO:cmdstanpy:Chain [1] done processing\n"
          ]
        },
        {
          "output_type": "stream",
          "name": "stdout",
          "text": [
            "Trained CEP: years=72, MAE=35554.6, RMSE=37311.9, MAPE=3555462.89%, PredNext=48419.5, MSY=20579.1, Overfishing=True\n"
          ]
        },
        {
          "output_type": "stream",
          "name": "stderr",
          "text": [
            "DEBUG:cmdstanpy:input tempfile: /tmp/tmp4ejm6sh6/jzkia5cd.json\n",
            "DEBUG:cmdstanpy:input tempfile: /tmp/tmp4ejm6sh6/ininc439.json\n",
            "DEBUG:cmdstanpy:idx 0\n",
            "DEBUG:cmdstanpy:running CmdStan, num_threads: None\n",
            "DEBUG:cmdstanpy:CmdStan args: ['/usr/local/lib/python3.12/dist-packages/prophet/stan_model/prophet_model.bin', 'random', 'seed=64066', 'data', 'file=/tmp/tmp4ejm6sh6/jzkia5cd.json', 'init=/tmp/tmp4ejm6sh6/ininc439.json', 'output', 'file=/tmp/tmp4ejm6sh6/prophet_modelmw0rlq9x/prophet_model-20250923181912.csv', 'method=optimize', 'algorithm=lbfgs', 'iter=10000']\n",
            "18:19:12 - cmdstanpy - INFO - Chain [1] start processing\n",
            "INFO:cmdstanpy:Chain [1] start processing\n",
            "18:19:12 - cmdstanpy - INFO - Chain [1] done processing\n",
            "INFO:cmdstanpy:Chain [1] done processing\n"
          ]
        },
        {
          "output_type": "stream",
          "name": "stdout",
          "text": [
            "Trained CGX: years=58, MAE=13913.2, RMSE=14287.8, MAPE=212.78%, PredNext=28294.3, MSY=15573.4, Overfishing=True\n"
          ]
        },
        {
          "output_type": "stream",
          "name": "stderr",
          "text": [
            "DEBUG:cmdstanpy:input tempfile: /tmp/tmp4ejm6sh6/znm8fx03.json\n",
            "DEBUG:cmdstanpy:input tempfile: /tmp/tmp4ejm6sh6/z6fuwye5.json\n",
            "DEBUG:cmdstanpy:idx 0\n",
            "DEBUG:cmdstanpy:running CmdStan, num_threads: None\n",
            "DEBUG:cmdstanpy:CmdStan args: ['/usr/local/lib/python3.12/dist-packages/prophet/stan_model/prophet_model.bin', 'random', 'seed=80049', 'data', 'file=/tmp/tmp4ejm6sh6/znm8fx03.json', 'init=/tmp/tmp4ejm6sh6/z6fuwye5.json', 'output', 'file=/tmp/tmp4ejm6sh6/prophet_modele62jbqlt/prophet_model-20250923181912.csv', 'method=optimize', 'algorithm=lbfgs', 'iter=10000']\n",
            "18:19:12 - cmdstanpy - INFO - Chain [1] start processing\n",
            "INFO:cmdstanpy:Chain [1] start processing\n",
            "18:19:12 - cmdstanpy - INFO - Chain [1] done processing\n",
            "INFO:cmdstanpy:Chain [1] done processing\n"
          ]
        },
        {
          "output_type": "stream",
          "name": "stdout",
          "text": [
            "Trained CLU: years=72, MAE=39262.1, RMSE=40159.1, MAPE=26.05%, PredNext=145135.7, MSY=50905.2, Overfishing=True\n"
          ]
        },
        {
          "output_type": "stream",
          "name": "stderr",
          "text": [
            "DEBUG:cmdstanpy:input tempfile: /tmp/tmp4ejm6sh6/ebzkhcm3.json\n",
            "DEBUG:cmdstanpy:input tempfile: /tmp/tmp4ejm6sh6/vusl2z_3.json\n",
            "DEBUG:cmdstanpy:idx 0\n",
            "DEBUG:cmdstanpy:running CmdStan, num_threads: None\n",
            "DEBUG:cmdstanpy:CmdStan args: ['/usr/local/lib/python3.12/dist-packages/prophet/stan_model/prophet_model.bin', 'random', 'seed=86492', 'data', 'file=/tmp/tmp4ejm6sh6/ebzkhcm3.json', 'init=/tmp/tmp4ejm6sh6/vusl2z_3.json', 'output', 'file=/tmp/tmp4ejm6sh6/prophet_modelv23hpi5l/prophet_model-20250923181913.csv', 'method=optimize', 'algorithm=newton', 'iter=10000']\n",
            "18:19:13 - cmdstanpy - INFO - Chain [1] start processing\n",
            "INFO:cmdstanpy:Chain [1] start processing\n",
            "18:19:13 - cmdstanpy - INFO - Chain [1] done processing\n",
            "INFO:cmdstanpy:Chain [1] done processing\n"
          ]
        },
        {
          "output_type": "stream",
          "name": "stdout",
          "text": [
            "Trained COM: years=72, MAE=2668.1, RMSE=2757.8, MAPE=15.04%, PredNext=22104.5, MSY=11417.3, Overfishing=True\n"
          ]
        },
        {
          "output_type": "stream",
          "name": "stderr",
          "text": [
            "DEBUG:cmdstanpy:input tempfile: /tmp/tmp4ejm6sh6/22uescnl.json\n",
            "DEBUG:cmdstanpy:input tempfile: /tmp/tmp4ejm6sh6/ripa3bxx.json\n",
            "DEBUG:cmdstanpy:idx 0\n",
            "DEBUG:cmdstanpy:running CmdStan, num_threads: None\n",
            "DEBUG:cmdstanpy:CmdStan args: ['/usr/local/lib/python3.12/dist-packages/prophet/stan_model/prophet_model.bin', 'random', 'seed=72935', 'data', 'file=/tmp/tmp4ejm6sh6/22uescnl.json', 'init=/tmp/tmp4ejm6sh6/ripa3bxx.json', 'output', 'file=/tmp/tmp4ejm6sh6/prophet_modelq6up8jdu/prophet_model-20250923181913.csv', 'method=optimize', 'algorithm=lbfgs', 'iter=10000']\n",
            "18:19:13 - cmdstanpy - INFO - Chain [1] start processing\n",
            "INFO:cmdstanpy:Chain [1] start processing\n",
            "18:19:13 - cmdstanpy - INFO - Chain [1] done processing\n",
            "INFO:cmdstanpy:Chain [1] done processing\n"
          ]
        },
        {
          "output_type": "stream",
          "name": "stdout",
          "text": [
            "Trained CRA: years=30, MAE=10873.0, RMSE=11504.9, MAPE=106.31%, PredNext=25764.1, MSY=18192.4, Overfishing=True\n"
          ]
        },
        {
          "output_type": "stream",
          "name": "stderr",
          "text": [
            "INFO:prophet:n_changepoints greater than number of observations. Using 24.\n",
            "DEBUG:cmdstanpy:input tempfile: /tmp/tmp4ejm6sh6/e_j1yezh.json\n",
            "DEBUG:cmdstanpy:input tempfile: /tmp/tmp4ejm6sh6/sbs_sybi.json\n",
            "DEBUG:cmdstanpy:idx 0\n",
            "DEBUG:cmdstanpy:running CmdStan, num_threads: None\n",
            "DEBUG:cmdstanpy:CmdStan args: ['/usr/local/lib/python3.12/dist-packages/prophet/stan_model/prophet_model.bin', 'random', 'seed=81665', 'data', 'file=/tmp/tmp4ejm6sh6/e_j1yezh.json', 'init=/tmp/tmp4ejm6sh6/sbs_sybi.json', 'output', 'file=/tmp/tmp4ejm6sh6/prophet_model0b6gmp_n/prophet_model-20250923181914.csv', 'method=optimize', 'algorithm=newton', 'iter=10000']\n",
            "18:19:14 - cmdstanpy - INFO - Chain [1] start processing\n",
            "INFO:cmdstanpy:Chain [1] start processing\n",
            "18:19:14 - cmdstanpy - INFO - Chain [1] done processing\n",
            "INFO:cmdstanpy:Chain [1] done processing\n"
          ]
        },
        {
          "output_type": "stream",
          "name": "stdout",
          "text": [
            "Trained CRU: years=61, MAE=12530.1, RMSE=12562.0, MAPE=1253007.83%, PredNext=12161.6, MSY=9952.2, Overfishing=True\n"
          ]
        },
        {
          "output_type": "stream",
          "name": "stderr",
          "text": [
            "INFO:prophet:n_changepoints greater than number of observations. Using 9.\n",
            "DEBUG:cmdstanpy:input tempfile: /tmp/tmp4ejm6sh6/6xh4kfvg.json\n",
            "DEBUG:cmdstanpy:input tempfile: /tmp/tmp4ejm6sh6/sl1xkxe9.json\n",
            "DEBUG:cmdstanpy:idx 0\n",
            "DEBUG:cmdstanpy:running CmdStan, num_threads: None\n",
            "DEBUG:cmdstanpy:CmdStan args: ['/usr/local/lib/python3.12/dist-packages/prophet/stan_model/prophet_model.bin', 'random', 'seed=11932', 'data', 'file=/tmp/tmp4ejm6sh6/6xh4kfvg.json', 'init=/tmp/tmp4ejm6sh6/sl1xkxe9.json', 'output', 'file=/tmp/tmp4ejm6sh6/prophet_modeljlm4skxq/prophet_model-20250923181914.csv', 'method=optimize', 'algorithm=newton', 'iter=10000']\n",
            "18:19:14 - cmdstanpy - INFO - Chain [1] start processing\n",
            "INFO:cmdstanpy:Chain [1] start processing\n",
            "18:19:14 - cmdstanpy - INFO - Chain [1] done processing\n",
            "INFO:cmdstanpy:Chain [1] done processing\n"
          ]
        },
        {
          "output_type": "stream",
          "name": "stdout",
          "text": [
            "Trained CSS: years=34, MAE=909.4, RMSE=909.7, MAPE=90937.94%, PredNext=955.4, MSY=621.3, Overfishing=True\n"
          ]
        },
        {
          "output_type": "stream",
          "name": "stderr",
          "text": [
            "DEBUG:cmdstanpy:input tempfile: /tmp/tmp4ejm6sh6/h5dhfrfq.json\n",
            "DEBUG:cmdstanpy:input tempfile: /tmp/tmp4ejm6sh6/vkwqrqp3.json\n",
            "DEBUG:cmdstanpy:idx 0\n",
            "DEBUG:cmdstanpy:running CmdStan, num_threads: None\n",
            "DEBUG:cmdstanpy:CmdStan args: ['/usr/local/lib/python3.12/dist-packages/prophet/stan_model/prophet_model.bin', 'random', 'seed=39966', 'data', 'file=/tmp/tmp4ejm6sh6/h5dhfrfq.json', 'init=/tmp/tmp4ejm6sh6/vkwqrqp3.json', 'output', 'file=/tmp/tmp4ejm6sh6/prophet_modelf8ziqv84/prophet_model-20250923181915.csv', 'method=optimize', 'algorithm=lbfgs', 'iter=10000']\n",
            "18:19:15 - cmdstanpy - INFO - Chain [1] start processing\n",
            "INFO:cmdstanpy:Chain [1] start processing\n",
            "18:19:15 - cmdstanpy - INFO - Chain [1] done processing\n",
            "INFO:cmdstanpy:Chain [1] done processing\n"
          ]
        },
        {
          "output_type": "stream",
          "name": "stdout",
          "text": [
            "Trained CTL: years=7, MAE=8757.1, RMSE=8757.1, MAPE=85.49%, PredNext=-12857.8, MSY=55431.8, Overfishing=False\n"
          ]
        },
        {
          "output_type": "stream",
          "name": "stderr",
          "text": [
            "DEBUG:cmdstanpy:input tempfile: /tmp/tmp4ejm6sh6/jj8accmf.json\n",
            "DEBUG:cmdstanpy:input tempfile: /tmp/tmp4ejm6sh6/e_oxb5v7.json\n",
            "DEBUG:cmdstanpy:idx 0\n",
            "DEBUG:cmdstanpy:running CmdStan, num_threads: None\n",
            "DEBUG:cmdstanpy:CmdStan args: ['/usr/local/lib/python3.12/dist-packages/prophet/stan_model/prophet_model.bin', 'random', 'seed=13155', 'data', 'file=/tmp/tmp4ejm6sh6/jj8accmf.json', 'init=/tmp/tmp4ejm6sh6/e_oxb5v7.json', 'output', 'file=/tmp/tmp4ejm6sh6/prophet_model_ypas3bo/prophet_model-20250923181915.csv', 'method=optimize', 'algorithm=lbfgs', 'iter=10000']\n",
            "18:19:15 - cmdstanpy - INFO - Chain [1] start processing\n",
            "INFO:cmdstanpy:Chain [1] start processing\n",
            "18:19:15 - cmdstanpy - INFO - Chain [1] done processing\n",
            "INFO:cmdstanpy:Chain [1] done processing\n"
          ]
        },
        {
          "output_type": "stream",
          "name": "stdout",
          "text": [
            "Trained CUT: years=72, MAE=33278.2, RMSE=38345.6, MAPE=80.88%, PredNext=123277.1, MSY=47257.7, Overfishing=True\n"
          ]
        },
        {
          "output_type": "stream",
          "name": "stderr",
          "text": [
            "DEBUG:cmdstanpy:input tempfile: /tmp/tmp4ejm6sh6/_2q7kqrl.json\n",
            "DEBUG:cmdstanpy:input tempfile: /tmp/tmp4ejm6sh6/eyxe884p.json\n",
            "DEBUG:cmdstanpy:idx 0\n",
            "DEBUG:cmdstanpy:running CmdStan, num_threads: None\n",
            "DEBUG:cmdstanpy:CmdStan args: ['/usr/local/lib/python3.12/dist-packages/prophet/stan_model/prophet_model.bin', 'random', 'seed=95742', 'data', 'file=/tmp/tmp4ejm6sh6/_2q7kqrl.json', 'init=/tmp/tmp4ejm6sh6/eyxe884p.json', 'output', 'file=/tmp/tmp4ejm6sh6/prophet_model6lx6wisk/prophet_model-20250923181915.csv', 'method=optimize', 'algorithm=newton', 'iter=10000']\n",
            "18:19:15 - cmdstanpy - INFO - Chain [1] start processing\n",
            "INFO:cmdstanpy:Chain [1] start processing\n",
            "18:19:16 - cmdstanpy - INFO - Chain [1] done processing\n",
            "INFO:cmdstanpy:Chain [1] done processing\n"
          ]
        },
        {
          "output_type": "stream",
          "name": "stdout",
          "text": [
            "Trained DCP: years=72, MAE=8276.2, RMSE=10854.5, MAPE=8.48%, PredNext=34850.8, MSY=76794.5, Overfishing=False\n"
          ]
        },
        {
          "output_type": "stream",
          "name": "stderr",
          "text": [
            "DEBUG:cmdstanpy:input tempfile: /tmp/tmp4ejm6sh6/5tx42ene.json\n",
            "DEBUG:cmdstanpy:input tempfile: /tmp/tmp4ejm6sh6/3ymzmciz.json\n",
            "DEBUG:cmdstanpy:idx 0\n",
            "DEBUG:cmdstanpy:running CmdStan, num_threads: None\n",
            "DEBUG:cmdstanpy:CmdStan args: ['/usr/local/lib/python3.12/dist-packages/prophet/stan_model/prophet_model.bin', 'random', 'seed=85129', 'data', 'file=/tmp/tmp4ejm6sh6/5tx42ene.json', 'init=/tmp/tmp4ejm6sh6/3ymzmciz.json', 'output', 'file=/tmp/tmp4ejm6sh6/prophet_modelmg039453/prophet_model-20250923181916.csv', 'method=optimize', 'algorithm=lbfgs', 'iter=10000']\n",
            "18:19:16 - cmdstanpy - INFO - Chain [1] start processing\n",
            "INFO:cmdstanpy:Chain [1] start processing\n",
            "18:19:16 - cmdstanpy - INFO - Chain [1] done processing\n",
            "INFO:cmdstanpy:Chain [1] done processing\n"
          ]
        },
        {
          "output_type": "stream",
          "name": "stdout",
          "text": [
            "Trained DCX: years=52, MAE=128.7, RMSE=143.7, MAPE=3.79%, PredNext=3799.2, MSY=1722.8, Overfishing=True\n"
          ]
        },
        {
          "output_type": "stream",
          "name": "stderr",
          "text": [
            "INFO:prophet:n_changepoints greater than number of observations. Using 9.\n",
            "DEBUG:cmdstanpy:input tempfile: /tmp/tmp4ejm6sh6/s4n7nbnh.json\n",
            "DEBUG:cmdstanpy:input tempfile: /tmp/tmp4ejm6sh6/emqwvuws.json\n",
            "DEBUG:cmdstanpy:idx 0\n",
            "DEBUG:cmdstanpy:running CmdStan, num_threads: None\n",
            "DEBUG:cmdstanpy:CmdStan args: ['/usr/local/lib/python3.12/dist-packages/prophet/stan_model/prophet_model.bin', 'random', 'seed=97479', 'data', 'file=/tmp/tmp4ejm6sh6/s4n7nbnh.json', 'init=/tmp/tmp4ejm6sh6/emqwvuws.json', 'output', 'file=/tmp/tmp4ejm6sh6/prophet_modelhwpzc11a/prophet_model-20250923181916.csv', 'method=optimize', 'algorithm=newton', 'iter=10000']\n",
            "18:19:16 - cmdstanpy - INFO - Chain [1] start processing\n",
            "INFO:cmdstanpy:Chain [1] start processing\n",
            "18:19:16 - cmdstanpy - INFO - Chain [1] done processing\n",
            "INFO:cmdstanpy:Chain [1] done processing\n"
          ]
        },
        {
          "output_type": "stream",
          "name": "stdout",
          "text": [
            "Trained DOS: years=72, MAE=3033.1, RMSE=3038.0, MAPE=39.95%, PredNext=9584.4, MSY=9706.9, Overfishing=False\n"
          ]
        },
        {
          "output_type": "stream",
          "name": "stderr",
          "text": [
            "INFO:prophet:n_changepoints greater than number of observations. Using 19.\n",
            "DEBUG:cmdstanpy:input tempfile: /tmp/tmp4ejm6sh6/5iidk8sa.json\n",
            "DEBUG:cmdstanpy:input tempfile: /tmp/tmp4ejm6sh6/q7pil9xn.json\n",
            "DEBUG:cmdstanpy:idx 0\n",
            "DEBUG:cmdstanpy:running CmdStan, num_threads: None\n",
            "DEBUG:cmdstanpy:CmdStan args: ['/usr/local/lib/python3.12/dist-packages/prophet/stan_model/prophet_model.bin', 'random', 'seed=11500', 'data', 'file=/tmp/tmp4ejm6sh6/5iidk8sa.json', 'init=/tmp/tmp4ejm6sh6/q7pil9xn.json', 'output', 'file=/tmp/tmp4ejm6sh6/prophet_modelqf9zaaal/prophet_model-20250923181917.csv', 'method=optimize', 'algorithm=newton', 'iter=10000']\n",
            "18:19:17 - cmdstanpy - INFO - Chain [1] start processing\n",
            "INFO:cmdstanpy:Chain [1] start processing\n",
            "18:19:17 - cmdstanpy - INFO - Chain [1] done processing\n",
            "INFO:cmdstanpy:Chain [1] done processing\n"
          ]
        },
        {
          "output_type": "stream",
          "name": "stdout",
          "text": [
            "Trained EMP: years=7, MAE=947.5, RMSE=947.5, MAPE=11.85%, PredNext=5745.3, MSY=8624.2, Overfishing=False\n"
          ]
        },
        {
          "output_type": "stream",
          "name": "stderr",
          "text": [
            "DEBUG:cmdstanpy:input tempfile: /tmp/tmp4ejm6sh6/my1zlr0g.json\n",
            "DEBUG:cmdstanpy:input tempfile: /tmp/tmp4ejm6sh6/532mnwzc.json\n",
            "DEBUG:cmdstanpy:idx 0\n",
            "DEBUG:cmdstanpy:running CmdStan, num_threads: None\n",
            "DEBUG:cmdstanpy:CmdStan args: ['/usr/local/lib/python3.12/dist-packages/prophet/stan_model/prophet_model.bin', 'random', 'seed=33008', 'data', 'file=/tmp/tmp4ejm6sh6/my1zlr0g.json', 'init=/tmp/tmp4ejm6sh6/532mnwzc.json', 'output', 'file=/tmp/tmp4ejm6sh6/prophet_modeln_k0vnzb/prophet_model-20250923181917.csv', 'method=optimize', 'algorithm=newton', 'iter=10000']\n",
            "18:19:17 - cmdstanpy - INFO - Chain [1] start processing\n",
            "INFO:cmdstanpy:Chain [1] start processing\n"
          ]
        },
        {
          "output_type": "stream",
          "name": "stdout",
          "text": [
            "Trained FCX: years=27, MAE=78.2, RMSE=104.4, MAPE=6.21%, PredNext=1234.0, MSY=624.1, Overfishing=True\n"
          ]
        },
        {
          "output_type": "stream",
          "name": "stderr",
          "text": [
            "18:19:18 - cmdstanpy - INFO - Chain [1] done processing\n",
            "INFO:cmdstanpy:Chain [1] done processing\n",
            "DEBUG:cmdstanpy:input tempfile: /tmp/tmp4ejm6sh6/ss8lvr48.json\n",
            "DEBUG:cmdstanpy:input tempfile: /tmp/tmp4ejm6sh6/zto7e9f4.json\n",
            "DEBUG:cmdstanpy:idx 0\n",
            "DEBUG:cmdstanpy:running CmdStan, num_threads: None\n",
            "DEBUG:cmdstanpy:CmdStan args: ['/usr/local/lib/python3.12/dist-packages/prophet/stan_model/prophet_model.bin', 'random', 'seed=89928', 'data', 'file=/tmp/tmp4ejm6sh6/ss8lvr48.json', 'init=/tmp/tmp4ejm6sh6/zto7e9f4.json', 'output', 'file=/tmp/tmp4ejm6sh6/prophet_model0uwlz2n1/prophet_model-20250923181918.csv', 'method=optimize', 'algorithm=lbfgs', 'iter=10000']\n",
            "18:19:18 - cmdstanpy - INFO - Chain [1] start processing\n",
            "INFO:cmdstanpy:Chain [1] start processing\n",
            "18:19:18 - cmdstanpy - INFO - Chain [1] done processing\n",
            "INFO:cmdstanpy:Chain [1] done processing\n"
          ]
        },
        {
          "output_type": "stream",
          "name": "stdout",
          "text": [
            "Trained FCY: years=38, MAE=90207.0, RMSE=90227.0, MAPE=12.15%, PredNext=693094.4, MSY=422958.3, Overfishing=True\n"
          ]
        },
        {
          "output_type": "stream",
          "name": "stderr",
          "text": [
            "DEBUG:cmdstanpy:input tempfile: /tmp/tmp4ejm6sh6/52gn1800.json\n",
            "DEBUG:cmdstanpy:input tempfile: /tmp/tmp4ejm6sh6/by07vv6c.json\n",
            "DEBUG:cmdstanpy:idx 0\n",
            "DEBUG:cmdstanpy:running CmdStan, num_threads: None\n",
            "DEBUG:cmdstanpy:CmdStan args: ['/usr/local/lib/python3.12/dist-packages/prophet/stan_model/prophet_model.bin', 'random', 'seed=28946', 'data', 'file=/tmp/tmp4ejm6sh6/52gn1800.json', 'init=/tmp/tmp4ejm6sh6/by07vv6c.json', 'output', 'file=/tmp/tmp4ejm6sh6/prophet_model74zjdyfd/prophet_model-20250923181919.csv', 'method=optimize', 'algorithm=lbfgs', 'iter=10000']\n",
            "18:19:19 - cmdstanpy - INFO - Chain [1] start processing\n",
            "INFO:cmdstanpy:Chain [1] start processing\n",
            "18:19:19 - cmdstanpy - INFO - Chain [1] done processing\n",
            "INFO:cmdstanpy:Chain [1] done processing\n"
          ]
        },
        {
          "output_type": "stream",
          "name": "stdout",
          "text": [
            "Trained FLX: years=72, MAE=9073.9, RMSE=9905.0, MAPE=136.59%, PredNext=31341.4, MSY=12205.4, Overfishing=True\n"
          ]
        },
        {
          "output_type": "stream",
          "name": "stderr",
          "text": [
            "DEBUG:cmdstanpy:input tempfile: /tmp/tmp4ejm6sh6/13voc5g1.json\n",
            "DEBUG:cmdstanpy:input tempfile: /tmp/tmp4ejm6sh6/md52wcbf.json\n",
            "DEBUG:cmdstanpy:idx 0\n",
            "DEBUG:cmdstanpy:running CmdStan, num_threads: None\n",
            "DEBUG:cmdstanpy:CmdStan args: ['/usr/local/lib/python3.12/dist-packages/prophet/stan_model/prophet_model.bin', 'random', 'seed=83123', 'data', 'file=/tmp/tmp4ejm6sh6/13voc5g1.json', 'init=/tmp/tmp4ejm6sh6/md52wcbf.json', 'output', 'file=/tmp/tmp4ejm6sh6/prophet_modelkzbfitx1/prophet_model-20250923181919.csv', 'method=optimize', 'algorithm=newton', 'iter=10000']\n",
            "18:19:19 - cmdstanpy - INFO - Chain [1] start processing\n",
            "INFO:cmdstanpy:Chain [1] start processing\n",
            "18:19:19 - cmdstanpy - INFO - Chain [1] done processing\n"
          ]
        },
        {
          "output_type": "stream",
          "name": "stdout",
          "text": [
            "Trained FLY: years=69, MAE=1006.5, RMSE=1198.2, MAPE=980.63%, PredNext=390.1, MSY=1595.5, Overfishing=False\n"
          ]
        },
        {
          "output_type": "stream",
          "name": "stderr",
          "text": [
            "INFO:cmdstanpy:Chain [1] done processing\n",
            "INFO:prophet:n_changepoints greater than number of observations. Using 23.\n",
            "DEBUG:cmdstanpy:input tempfile: /tmp/tmp4ejm6sh6/dsgay5pv.json\n",
            "DEBUG:cmdstanpy:input tempfile: /tmp/tmp4ejm6sh6/p2igo_vn.json\n",
            "DEBUG:cmdstanpy:idx 0\n",
            "DEBUG:cmdstanpy:running CmdStan, num_threads: None\n",
            "DEBUG:cmdstanpy:CmdStan args: ['/usr/local/lib/python3.12/dist-packages/prophet/stan_model/prophet_model.bin', 'random', 'seed=66076', 'data', 'file=/tmp/tmp4ejm6sh6/dsgay5pv.json', 'init=/tmp/tmp4ejm6sh6/p2igo_vn.json', 'output', 'file=/tmp/tmp4ejm6sh6/prophet_modelbxwon1pg/prophet_model-20250923181920.csv', 'method=optimize', 'algorithm=newton', 'iter=10000']\n",
            "18:19:20 - cmdstanpy - INFO - Chain [1] start processing\n",
            "INFO:cmdstanpy:Chain [1] start processing\n",
            "18:19:20 - cmdstanpy - INFO - Chain [1] done processing\n",
            "INFO:cmdstanpy:Chain [1] done processing\n"
          ]
        },
        {
          "output_type": "stream",
          "name": "stdout",
          "text": [
            "Trained FRF: years=72, MAE=109378.6, RMSE=109476.8, MAPE=15.56%, PredNext=611597.9, MSY=465809.8, Overfishing=True\n"
          ]
        },
        {
          "output_type": "stream",
          "name": "stderr",
          "text": [
            "DEBUG:cmdstanpy:input tempfile: /tmp/tmp4ejm6sh6/mqowysvj.json\n",
            "DEBUG:cmdstanpy:input tempfile: /tmp/tmp4ejm6sh6/cfoq5lr7.json\n",
            "DEBUG:cmdstanpy:idx 0\n",
            "DEBUG:cmdstanpy:running CmdStan, num_threads: None\n",
            "DEBUG:cmdstanpy:CmdStan args: ['/usr/local/lib/python3.12/dist-packages/prophet/stan_model/prophet_model.bin', 'random', 'seed=9704', 'data', 'file=/tmp/tmp4ejm6sh6/mqowysvj.json', 'init=/tmp/tmp4ejm6sh6/cfoq5lr7.json', 'output', 'file=/tmp/tmp4ejm6sh6/prophet_modellqjy8wmj/prophet_model-20250923181920.csv', 'method=optimize', 'algorithm=lbfgs', 'iter=10000']\n",
            "18:19:20 - cmdstanpy - INFO - Chain [1] start processing\n",
            "INFO:cmdstanpy:Chain [1] start processing\n",
            "18:19:20 - cmdstanpy - INFO - Chain [1] done processing\n",
            "INFO:cmdstanpy:Chain [1] done processing\n"
          ]
        },
        {
          "output_type": "stream",
          "name": "stdout",
          "text": [
            "Trained FRG: years=33, MAE=173.4, RMSE=173.9, MAPE=17342.40%, PredNext=-20.6, MSY=1736.0, Overfishing=False\n"
          ]
        },
        {
          "output_type": "stream",
          "name": "stderr",
          "text": [
            "INFO:prophet:n_changepoints greater than number of observations. Using 16.\n",
            "DEBUG:cmdstanpy:input tempfile: /tmp/tmp4ejm6sh6/bxzir8au.json\n",
            "DEBUG:cmdstanpy:input tempfile: /tmp/tmp4ejm6sh6/ribc9sqf.json\n",
            "DEBUG:cmdstanpy:idx 0\n",
            "DEBUG:cmdstanpy:running CmdStan, num_threads: None\n",
            "DEBUG:cmdstanpy:CmdStan args: ['/usr/local/lib/python3.12/dist-packages/prophet/stan_model/prophet_model.bin', 'random', 'seed=47', 'data', 'file=/tmp/tmp4ejm6sh6/bxzir8au.json', 'init=/tmp/tmp4ejm6sh6/ribc9sqf.json', 'output', 'file=/tmp/tmp4ejm6sh6/prophet_modelf2qkkfer/prophet_model-20250923181920.csv', 'method=optimize', 'algorithm=newton', 'iter=10000']\n",
            "18:19:20 - cmdstanpy - INFO - Chain [1] start processing\n",
            "INFO:cmdstanpy:Chain [1] start processing\n",
            "18:19:21 - cmdstanpy - INFO - Chain [1] done processing\n",
            "INFO:cmdstanpy:Chain [1] done processing\n"
          ]
        },
        {
          "output_type": "stream",
          "name": "stdout",
          "text": [
            "Trained FRI: years=72, MAE=2524.4, RMSE=2563.8, MAPE=81.80%, PredNext=6490.2, MSY=2904.2, Overfishing=True\n"
          ]
        },
        {
          "output_type": "stream",
          "name": "stderr",
          "text": [
            "INFO:prophet:n_changepoints greater than number of observations. Using 21.\n",
            "DEBUG:cmdstanpy:input tempfile: /tmp/tmp4ejm6sh6/de8uba2t.json\n",
            "DEBUG:cmdstanpy:input tempfile: /tmp/tmp4ejm6sh6/ocsgecoo.json\n",
            "DEBUG:cmdstanpy:idx 0\n",
            "DEBUG:cmdstanpy:running CmdStan, num_threads: None\n",
            "DEBUG:cmdstanpy:CmdStan args: ['/usr/local/lib/python3.12/dist-packages/prophet/stan_model/prophet_model.bin', 'random', 'seed=41259', 'data', 'file=/tmp/tmp4ejm6sh6/de8uba2t.json', 'init=/tmp/tmp4ejm6sh6/ocsgecoo.json', 'output', 'file=/tmp/tmp4ejm6sh6/prophet_model9uryqb3u/prophet_model-20250923181921.csv', 'method=optimize', 'algorithm=newton', 'iter=10000']\n",
            "18:19:21 - cmdstanpy - INFO - Chain [1] start processing\n",
            "INFO:cmdstanpy:Chain [1] start processing\n",
            "18:19:21 - cmdstanpy - INFO - Chain [1] done processing\n",
            "INFO:cmdstanpy:Chain [1] done processing\n"
          ]
        },
        {
          "output_type": "stream",
          "name": "stdout",
          "text": [
            "Trained FSI: years=24, MAE=3739.1, RMSE=3774.7, MAPE=3.86%, PredNext=122408.9, MSY=104396.3, Overfishing=True\n"
          ]
        },
        {
          "output_type": "stream",
          "name": "stderr",
          "text": [
            "INFO:prophet:n_changepoints greater than number of observations. Using 13.\n"
          ]
        },
        {
          "output_type": "stream",
          "name": "stdout",
          "text": [
            "Trained FSN: years=30, MAE=31043.9, RMSE=31737.4, MAPE=16.48%, PredNext=166858.5, MSY=119811.2, Overfishing=True\n"
          ]
        },
        {
          "output_type": "stream",
          "name": "stderr",
          "text": [
            "DEBUG:cmdstanpy:input tempfile: /tmp/tmp4ejm6sh6/sajl813l.json\n",
            "DEBUG:cmdstanpy:input tempfile: /tmp/tmp4ejm6sh6/itxcche7.json\n",
            "DEBUG:cmdstanpy:idx 0\n",
            "DEBUG:cmdstanpy:running CmdStan, num_threads: None\n",
            "DEBUG:cmdstanpy:CmdStan args: ['/usr/local/lib/python3.12/dist-packages/prophet/stan_model/prophet_model.bin', 'random', 'seed=94140', 'data', 'file=/tmp/tmp4ejm6sh6/sajl813l.json', 'init=/tmp/tmp4ejm6sh6/itxcche7.json', 'output', 'file=/tmp/tmp4ejm6sh6/prophet_modelijexevc_/prophet_model-20250923181922.csv', 'method=optimize', 'algorithm=newton', 'iter=10000']\n",
            "18:19:22 - cmdstanpy - INFO - Chain [1] start processing\n",
            "INFO:cmdstanpy:Chain [1] start processing\n"
          ]
        },
        {
          "output_type": "stream",
          "name": "stdout",
          "text": [
            "Trained GIP: years=10, MAE=0.0, RMSE=0.0, MAPE=0.00%, PredNext=0.0, MSY=0.0, Overfishing=False\n"
          ]
        },
        {
          "output_type": "stream",
          "name": "stderr",
          "text": [
            "18:19:22 - cmdstanpy - INFO - Chain [1] done processing\n",
            "INFO:cmdstanpy:Chain [1] done processing\n",
            "DEBUG:cmdstanpy:input tempfile: /tmp/tmp4ejm6sh6/6pou9ub8.json\n",
            "DEBUG:cmdstanpy:input tempfile: /tmp/tmp4ejm6sh6/tl8xu__d.json\n",
            "DEBUG:cmdstanpy:idx 0\n",
            "DEBUG:cmdstanpy:running CmdStan, num_threads: None\n",
            "DEBUG:cmdstanpy:CmdStan args: ['/usr/local/lib/python3.12/dist-packages/prophet/stan_model/prophet_model.bin', 'random', 'seed=60889', 'data', 'file=/tmp/tmp4ejm6sh6/6pou9ub8.json', 'init=/tmp/tmp4ejm6sh6/tl8xu__d.json', 'output', 'file=/tmp/tmp4ejm6sh6/prophet_modelz1knr96n/prophet_model-20250923181922.csv', 'method=optimize', 'algorithm=lbfgs', 'iter=10000']\n",
            "18:19:22 - cmdstanpy - INFO - Chain [1] start processing\n",
            "INFO:cmdstanpy:Chain [1] start processing\n",
            "18:19:22 - cmdstanpy - INFO - Chain [1] done processing\n",
            "INFO:cmdstanpy:Chain [1] done processing\n"
          ]
        },
        {
          "output_type": "stream",
          "name": "stdout",
          "text": [
            "Trained GIT: years=38, MAE=22780.2, RMSE=27469.9, MAPE=25.02%, PredNext=145525.9, MSY=93452.0, Overfishing=True\n"
          ]
        },
        {
          "output_type": "stream",
          "name": "stderr",
          "text": [
            "INFO:prophet:n_changepoints greater than number of observations. Using 9.\n",
            "DEBUG:cmdstanpy:input tempfile: /tmp/tmp4ejm6sh6/mnm19l_c.json\n",
            "DEBUG:cmdstanpy:input tempfile: /tmp/tmp4ejm6sh6/rdnc2wwv.json\n",
            "DEBUG:cmdstanpy:idx 0\n",
            "DEBUG:cmdstanpy:running CmdStan, num_threads: None\n",
            "DEBUG:cmdstanpy:CmdStan args: ['/usr/local/lib/python3.12/dist-packages/prophet/stan_model/prophet_model.bin', 'random', 'seed=37439', 'data', 'file=/tmp/tmp4ejm6sh6/mnm19l_c.json', 'init=/tmp/tmp4ejm6sh6/rdnc2wwv.json', 'output', 'file=/tmp/tmp4ejm6sh6/prophet_modelv409pk60/prophet_model-20250923181923.csv', 'method=optimize', 'algorithm=newton', 'iter=10000']\n",
            "18:19:23 - cmdstanpy - INFO - Chain [1] start processing\n",
            "INFO:cmdstanpy:Chain [1] start processing\n",
            "18:19:23 - cmdstanpy - INFO - Chain [1] done processing\n",
            "INFO:cmdstanpy:Chain [1] done processing\n"
          ]
        },
        {
          "output_type": "stream",
          "name": "stdout",
          "text": [
            "Trained GOX: years=69, MAE=2493.8, RMSE=2850.3, MAPE=24.77%, PredNext=14497.1, MSY=8873.5, Overfishing=True\n"
          ]
        },
        {
          "output_type": "stream",
          "name": "stderr",
          "text": [
            "DEBUG:cmdstanpy:input tempfile: /tmp/tmp4ejm6sh6/tcq8ks3p.json\n",
            "DEBUG:cmdstanpy:input tempfile: /tmp/tmp4ejm6sh6/5tenrbpj.json\n",
            "DEBUG:cmdstanpy:idx 0\n",
            "DEBUG:cmdstanpy:running CmdStan, num_threads: None\n",
            "DEBUG:cmdstanpy:CmdStan args: ['/usr/local/lib/python3.12/dist-packages/prophet/stan_model/prophet_model.bin', 'random', 'seed=81548', 'data', 'file=/tmp/tmp4ejm6sh6/tcq8ks3p.json', 'init=/tmp/tmp4ejm6sh6/5tenrbpj.json', 'output', 'file=/tmp/tmp4ejm6sh6/prophet_model2g8_8qi0/prophet_model-20250923181923.csv', 'method=optimize', 'algorithm=lbfgs', 'iter=10000']\n",
            "18:19:23 - cmdstanpy - INFO - Chain [1] start processing\n",
            "INFO:cmdstanpy:Chain [1] start processing\n",
            "18:19:23 - cmdstanpy - INFO - Chain [1] done processing\n",
            "INFO:cmdstanpy:Chain [1] done processing\n"
          ]
        },
        {
          "output_type": "stream",
          "name": "stdout",
          "text": [
            "Trained GPX: years=7, MAE=2097.0, RMSE=2097.0, MAPE=7.95%, PredNext=20182.8, MSY=25820.2, Overfishing=False\n"
          ]
        },
        {
          "output_type": "stream",
          "name": "stderr",
          "text": [
            "DEBUG:cmdstanpy:input tempfile: /tmp/tmp4ejm6sh6/jk9buzaa.json\n",
            "DEBUG:cmdstanpy:input tempfile: /tmp/tmp4ejm6sh6/ovg3i1ct.json\n",
            "DEBUG:cmdstanpy:idx 0\n",
            "DEBUG:cmdstanpy:running CmdStan, num_threads: None\n",
            "DEBUG:cmdstanpy:CmdStan args: ['/usr/local/lib/python3.12/dist-packages/prophet/stan_model/prophet_model.bin', 'random', 'seed=95078', 'data', 'file=/tmp/tmp4ejm6sh6/jk9buzaa.json', 'init=/tmp/tmp4ejm6sh6/ovg3i1ct.json', 'output', 'file=/tmp/tmp4ejm6sh6/prophet_modelo2cks3_9/prophet_model-20250923181924.csv', 'method=optimize', 'algorithm=lbfgs', 'iter=10000']\n",
            "18:19:24 - cmdstanpy - INFO - Chain [1] start processing\n",
            "INFO:cmdstanpy:Chain [1] start processing\n",
            "18:19:24 - cmdstanpy - INFO - Chain [1] done processing\n",
            "INFO:cmdstanpy:Chain [1] done processing\n"
          ]
        },
        {
          "output_type": "stream",
          "name": "stdout",
          "text": [
            "Trained GUT: years=72, MAE=8171.6, RMSE=8340.5, MAPE=740.96%, PredNext=11260.9, MSY=7135.0, Overfishing=True\n"
          ]
        },
        {
          "output_type": "stream",
          "name": "stderr",
          "text": [
            "DEBUG:cmdstanpy:input tempfile: /tmp/tmp4ejm6sh6/v7_o32gq.json\n",
            "DEBUG:cmdstanpy:input tempfile: /tmp/tmp4ejm6sh6/dlim67pn.json\n",
            "DEBUG:cmdstanpy:idx 0\n",
            "DEBUG:cmdstanpy:running CmdStan, num_threads: None\n",
            "DEBUG:cmdstanpy:CmdStan args: ['/usr/local/lib/python3.12/dist-packages/prophet/stan_model/prophet_model.bin', 'random', 'seed=58712', 'data', 'file=/tmp/tmp4ejm6sh6/v7_o32gq.json', 'init=/tmp/tmp4ejm6sh6/dlim67pn.json', 'output', 'file=/tmp/tmp4ejm6sh6/prophet_model2iqxlx28/prophet_model-20250923181924.csv', 'method=optimize', 'algorithm=lbfgs', 'iter=10000']\n",
            "18:19:24 - cmdstanpy - INFO - Chain [1] start processing\n",
            "INFO:cmdstanpy:Chain [1] start processing\n",
            "18:19:24 - cmdstanpy - INFO - Chain [1] done processing\n",
            "INFO:cmdstanpy:Chain [1] done processing\n"
          ]
        },
        {
          "output_type": "stream",
          "name": "stdout",
          "text": [
            "Trained HIL: years=64, MAE=6164.5, RMSE=8338.0, MAPE=112.15%, PredNext=18886.8, MSY=18203.6, Overfishing=True\n"
          ]
        },
        {
          "output_type": "stream",
          "name": "stderr",
          "text": [
            "INFO:prophet:n_changepoints greater than number of observations. Using 9.\n",
            "DEBUG:cmdstanpy:input tempfile: /tmp/tmp4ejm6sh6/_3zgebik.json\n",
            "DEBUG:cmdstanpy:input tempfile: /tmp/tmp4ejm6sh6/ly_85ysr.json\n",
            "DEBUG:cmdstanpy:idx 0\n",
            "DEBUG:cmdstanpy:running CmdStan, num_threads: None\n",
            "DEBUG:cmdstanpy:CmdStan args: ['/usr/local/lib/python3.12/dist-packages/prophet/stan_model/prophet_model.bin', 'random', 'seed=68736', 'data', 'file=/tmp/tmp4ejm6sh6/_3zgebik.json', 'init=/tmp/tmp4ejm6sh6/ly_85ysr.json', 'output', 'file=/tmp/tmp4ejm6sh6/prophet_model90288xjt/prophet_model-20250923181925.csv', 'method=optimize', 'algorithm=newton', 'iter=10000']\n",
            "18:19:25 - cmdstanpy - INFO - Chain [1] start processing\n",
            "INFO:cmdstanpy:Chain [1] start processing\n",
            "18:19:25 - cmdstanpy - INFO - Chain [1] done processing\n",
            "INFO:cmdstanpy:Chain [1] done processing\n"
          ]
        },
        {
          "output_type": "stream",
          "name": "stdout",
          "text": [
            "Trained IOS: years=72, MAE=89656.1, RMSE=101684.5, MAPE=215.56%, PredNext=214085.6, MSY=126569.7, Overfishing=True\n",
            "Trained JAX: years=7, MAE=4279.5, RMSE=4279.5, MAPE=28.67%, PredNext=20049.7, MSY=26319.5, Overfishing=False\n"
          ]
        },
        {
          "output_type": "stream",
          "name": "stderr",
          "text": [
            "DEBUG:cmdstanpy:input tempfile: /tmp/tmp4ejm6sh6/04ezjywu.json\n",
            "DEBUG:cmdstanpy:input tempfile: /tmp/tmp4ejm6sh6/k3ssl5qt.json\n",
            "DEBUG:cmdstanpy:idx 0\n",
            "DEBUG:cmdstanpy:running CmdStan, num_threads: None\n",
            "DEBUG:cmdstanpy:CmdStan args: ['/usr/local/lib/python3.12/dist-packages/prophet/stan_model/prophet_model.bin', 'random', 'seed=80180', 'data', 'file=/tmp/tmp4ejm6sh6/04ezjywu.json', 'init=/tmp/tmp4ejm6sh6/k3ssl5qt.json', 'output', 'file=/tmp/tmp4ejm6sh6/prophet_modelq991x1ns/prophet_model-20250923181925.csv', 'method=optimize', 'algorithm=lbfgs', 'iter=10000']\n",
            "18:19:25 - cmdstanpy - INFO - Chain [1] start processing\n",
            "INFO:cmdstanpy:Chain [1] start processing\n",
            "18:19:25 - cmdstanpy - INFO - Chain [1] done processing\n",
            "INFO:cmdstanpy:Chain [1] done processing\n"
          ]
        },
        {
          "output_type": "stream",
          "name": "stdout",
          "text": [
            "Trained JEL: years=52, MAE=0.0, RMSE=0.0, MAPE=0.00%, PredNext=0.0, MSY=0.0, Overfishing=False\n"
          ]
        },
        {
          "output_type": "stream",
          "name": "stderr",
          "text": [
            "DEBUG:cmdstanpy:input tempfile: /tmp/tmp4ejm6sh6/8wv3yqbr.json\n",
            "DEBUG:cmdstanpy:input tempfile: /tmp/tmp4ejm6sh6/auwq5b67.json\n",
            "DEBUG:cmdstanpy:idx 0\n",
            "DEBUG:cmdstanpy:running CmdStan, num_threads: None\n",
            "DEBUG:cmdstanpy:CmdStan args: ['/usr/local/lib/python3.12/dist-packages/prophet/stan_model/prophet_model.bin', 'random', 'seed=9368', 'data', 'file=/tmp/tmp4ejm6sh6/8wv3yqbr.json', 'init=/tmp/tmp4ejm6sh6/auwq5b67.json', 'output', 'file=/tmp/tmp4ejm6sh6/prophet_model4aw30_e5/prophet_model-20250923181926.csv', 'method=optimize', 'algorithm=lbfgs', 'iter=10000']\n",
            "18:19:26 - cmdstanpy - INFO - Chain [1] start processing\n",
            "INFO:cmdstanpy:Chain [1] start processing\n",
            "18:19:26 - cmdstanpy - INFO - Chain [1] done processing\n",
            "INFO:cmdstanpy:Chain [1] done processing\n"
          ]
        },
        {
          "output_type": "stream",
          "name": "stdout",
          "text": [
            "Trained JKX: years=61, MAE=893.7, RMSE=1084.9, MAPE=25.94%, PredNext=2077.0, MSY=3947.9, Overfishing=False\n",
            "Trained KAW: years=72, MAE=5104.8, RMSE=6001.2, MAPE=78.84%, PredNext=22239.0, MSY=9358.3, Overfishing=True\n"
          ]
        },
        {
          "output_type": "stream",
          "name": "stderr",
          "text": [
            "DEBUG:cmdstanpy:input tempfile: /tmp/tmp4ejm6sh6/2pxy4hq2.json\n",
            "DEBUG:cmdstanpy:input tempfile: /tmp/tmp4ejm6sh6/kubija09.json\n",
            "DEBUG:cmdstanpy:idx 0\n",
            "DEBUG:cmdstanpy:running CmdStan, num_threads: None\n",
            "DEBUG:cmdstanpy:CmdStan args: ['/usr/local/lib/python3.12/dist-packages/prophet/stan_model/prophet_model.bin', 'random', 'seed=62719', 'data', 'file=/tmp/tmp4ejm6sh6/2pxy4hq2.json', 'init=/tmp/tmp4ejm6sh6/kubija09.json', 'output', 'file=/tmp/tmp4ejm6sh6/prophet_modelba2256dd/prophet_model-20250923181927.csv', 'method=optimize', 'algorithm=lbfgs', 'iter=10000']\n",
            "18:19:27 - cmdstanpy - INFO - Chain [1] start processing\n",
            "INFO:cmdstanpy:Chain [1] start processing\n",
            "18:19:27 - cmdstanpy - INFO - Chain [1] done processing\n",
            "INFO:cmdstanpy:Chain [1] done processing\n"
          ]
        },
        {
          "output_type": "stream",
          "name": "stdout",
          "text": [
            "Trained LAC: years=52, MAE=0.0, RMSE=0.0, MAPE=0.00%, PredNext=0.0, MSY=0.0, Overfishing=False\n"
          ]
        },
        {
          "output_type": "stream",
          "name": "stderr",
          "text": [
            "DEBUG:cmdstanpy:input tempfile: /tmp/tmp4ejm6sh6/y23lx8hc.json\n",
            "DEBUG:cmdstanpy:input tempfile: /tmp/tmp4ejm6sh6/5ask8df9.json\n",
            "DEBUG:cmdstanpy:idx 0\n",
            "DEBUG:cmdstanpy:running CmdStan, num_threads: None\n",
            "DEBUG:cmdstanpy:CmdStan args: ['/usr/local/lib/python3.12/dist-packages/prophet/stan_model/prophet_model.bin', 'random', 'seed=5427', 'data', 'file=/tmp/tmp4ejm6sh6/y23lx8hc.json', 'init=/tmp/tmp4ejm6sh6/5ask8df9.json', 'output', 'file=/tmp/tmp4ejm6sh6/prophet_modelp4880k7n/prophet_model-20250923181927.csv', 'method=optimize', 'algorithm=lbfgs', 'iter=10000']\n",
            "18:19:27 - cmdstanpy - INFO - Chain [1] start processing\n",
            "INFO:cmdstanpy:Chain [1] start processing\n",
            "18:19:27 - cmdstanpy - INFO - Chain [1] done processing\n",
            "INFO:cmdstanpy:Chain [1] done processing\n"
          ]
        },
        {
          "output_type": "stream",
          "name": "stdout",
          "text": [
            "Trained LIX: years=61, MAE=8522.1, RMSE=9719.7, MAPE=19.09%, PredNext=39939.0, MSY=10431.9, Overfishing=True\n"
          ]
        },
        {
          "output_type": "stream",
          "name": "stderr",
          "text": [
            "INFO:prophet:n_changepoints greater than number of observations. Using 11.\n",
            "DEBUG:cmdstanpy:input tempfile: /tmp/tmp4ejm6sh6/46kvpq79.json\n",
            "DEBUG:cmdstanpy:input tempfile: /tmp/tmp4ejm6sh6/uw74euig.json\n",
            "DEBUG:cmdstanpy:idx 0\n",
            "DEBUG:cmdstanpy:running CmdStan, num_threads: None\n",
            "DEBUG:cmdstanpy:CmdStan args: ['/usr/local/lib/python3.12/dist-packages/prophet/stan_model/prophet_model.bin', 'random', 'seed=34131', 'data', 'file=/tmp/tmp4ejm6sh6/46kvpq79.json', 'init=/tmp/tmp4ejm6sh6/uw74euig.json', 'output', 'file=/tmp/tmp4ejm6sh6/prophet_modelnbb3iztu/prophet_model-20250923181927.csv', 'method=optimize', 'algorithm=newton', 'iter=10000']\n",
            "18:19:27 - cmdstanpy - INFO - Chain [1] start processing\n",
            "INFO:cmdstanpy:Chain [1] start processing\n",
            "18:19:27 - cmdstanpy - INFO - Chain [1] done processing\n",
            "INFO:cmdstanpy:Chain [1] done processing\n"
          ]
        },
        {
          "output_type": "stream",
          "name": "stdout",
          "text": [
            "Trained LOT: years=72, MAE=3674.0, RMSE=3704.6, MAPE=123147.47%, PredNext=6205.0, MSY=1840.0, Overfishing=True\n"
          ]
        },
        {
          "output_type": "stream",
          "name": "stderr",
          "text": [
            "DEBUG:cmdstanpy:input tempfile: /tmp/tmp4ejm6sh6/yn6rbbim.json\n",
            "DEBUG:cmdstanpy:input tempfile: /tmp/tmp4ejm6sh6/6cbbb0s1.json\n",
            "DEBUG:cmdstanpy:idx 0\n",
            "DEBUG:cmdstanpy:running CmdStan, num_threads: None\n",
            "DEBUG:cmdstanpy:CmdStan args: ['/usr/local/lib/python3.12/dist-packages/prophet/stan_model/prophet_model.bin', 'random', 'seed=58716', 'data', 'file=/tmp/tmp4ejm6sh6/yn6rbbim.json', 'init=/tmp/tmp4ejm6sh6/6cbbb0s1.json', 'output', 'file=/tmp/tmp4ejm6sh6/prophet_modeld34fb5ny/prophet_model-20250923181928.csv', 'method=optimize', 'algorithm=lbfgs', 'iter=10000']\n",
            "18:19:28 - cmdstanpy - INFO - Chain [1] start processing\n",
            "INFO:cmdstanpy:Chain [1] start processing\n",
            "18:19:28 - cmdstanpy - INFO - Chain [1] done processing\n",
            "INFO:cmdstanpy:Chain [1] done processing\n"
          ]
        },
        {
          "output_type": "stream",
          "name": "stdout",
          "text": [
            "Trained LOX: years=8, MAE=631.2, RMSE=631.2, MAPE=64.95%, PredNext=1451.7, MSY=1193.2, Overfishing=True\n"
          ]
        },
        {
          "output_type": "stream",
          "name": "stderr",
          "text": [
            "DEBUG:cmdstanpy:input tempfile: /tmp/tmp4ejm6sh6/5m879937.json\n",
            "DEBUG:cmdstanpy:input tempfile: /tmp/tmp4ejm6sh6/8g2hsyaz.json\n",
            "DEBUG:cmdstanpy:idx 0\n",
            "DEBUG:cmdstanpy:running CmdStan, num_threads: None\n",
            "DEBUG:cmdstanpy:CmdStan args: ['/usr/local/lib/python3.12/dist-packages/prophet/stan_model/prophet_model.bin', 'random', 'seed=65416', 'data', 'file=/tmp/tmp4ejm6sh6/5m879937.json', 'init=/tmp/tmp4ejm6sh6/8g2hsyaz.json', 'output', 'file=/tmp/tmp4ejm6sh6/prophet_modelfjdrfo3e/prophet_model-20250923181928.csv', 'method=optimize', 'algorithm=newton', 'iter=10000']\n",
            "18:19:28 - cmdstanpy - INFO - Chain [1] start processing\n",
            "INFO:cmdstanpy:Chain [1] start processing\n"
          ]
        },
        {
          "output_type": "stream",
          "name": "stdout",
          "text": [
            "Trained MLS: years=72, MAE=31.0, RMSE=31.1, MAPE=3096.96%, PredNext=31.3, MSY=10.5, Overfishing=True\n"
          ]
        },
        {
          "output_type": "stream",
          "name": "stderr",
          "text": [
            "18:19:29 - cmdstanpy - INFO - Chain [1] done processing\n",
            "INFO:cmdstanpy:Chain [1] done processing\n",
            "DEBUG:cmdstanpy:input tempfile: /tmp/tmp4ejm6sh6/omg20570.json\n",
            "DEBUG:cmdstanpy:input tempfile: /tmp/tmp4ejm6sh6/rioeq1kb.json\n",
            "DEBUG:cmdstanpy:idx 0\n",
            "DEBUG:cmdstanpy:running CmdStan, num_threads: None\n",
            "DEBUG:cmdstanpy:CmdStan args: ['/usr/local/lib/python3.12/dist-packages/prophet/stan_model/prophet_model.bin', 'random', 'seed=89496', 'data', 'file=/tmp/tmp4ejm6sh6/omg20570.json', 'init=/tmp/tmp4ejm6sh6/rioeq1kb.json', 'output', 'file=/tmp/tmp4ejm6sh6/prophet_model9lddxi42/prophet_model-20250923181929.csv', 'method=optimize', 'algorithm=lbfgs', 'iter=10000']\n",
            "18:19:29 - cmdstanpy - INFO - Chain [1] start processing\n",
            "INFO:cmdstanpy:Chain [1] start processing\n",
            "18:19:29 - cmdstanpy - INFO - Chain [1] done processing\n",
            "INFO:cmdstanpy:Chain [1] done processing\n"
          ]
        },
        {
          "output_type": "stream",
          "name": "stdout",
          "text": [
            "Trained MOF: years=72, MAE=712.8, RMSE=724.8, MAPE=15.23%, PredNext=3983.6, MSY=859.0, Overfishing=True\n"
          ]
        },
        {
          "output_type": "stream",
          "name": "stderr",
          "text": [
            "DEBUG:cmdstanpy:input tempfile: /tmp/tmp4ejm6sh6/z4eljlu2.json\n",
            "DEBUG:cmdstanpy:input tempfile: /tmp/tmp4ejm6sh6/nr38gmbi.json\n",
            "DEBUG:cmdstanpy:idx 0\n",
            "DEBUG:cmdstanpy:running CmdStan, num_threads: None\n",
            "DEBUG:cmdstanpy:CmdStan args: ['/usr/local/lib/python3.12/dist-packages/prophet/stan_model/prophet_model.bin', 'random', 'seed=57115', 'data', 'file=/tmp/tmp4ejm6sh6/z4eljlu2.json', 'init=/tmp/tmp4ejm6sh6/nr38gmbi.json', 'output', 'file=/tmp/tmp4ejm6sh6/prophet_modelwjfsxxcy/prophet_model-20250923181930.csv', 'method=optimize', 'algorithm=lbfgs', 'iter=10000']\n",
            "18:19:30 - cmdstanpy - INFO - Chain [1] start processing\n",
            "INFO:cmdstanpy:Chain [1] start processing\n",
            "18:19:30 - cmdstanpy - INFO - Chain [1] done processing\n",
            "INFO:cmdstanpy:Chain [1] done processing\n"
          ]
        },
        {
          "output_type": "stream",
          "name": "stdout",
          "text": [
            "Trained MOL: years=52, MAE=7297.0, RMSE=8403.1, MAPE=14.79%, PredNext=61296.4, MSY=16011.9, Overfishing=True\n"
          ]
        },
        {
          "output_type": "stream",
          "name": "stderr",
          "text": [
            "DEBUG:cmdstanpy:input tempfile: /tmp/tmp4ejm6sh6/uialz3rh.json\n",
            "DEBUG:cmdstanpy:input tempfile: /tmp/tmp4ejm6sh6/tbxz8xyw.json\n",
            "DEBUG:cmdstanpy:idx 0\n",
            "DEBUG:cmdstanpy:running CmdStan, num_threads: None\n",
            "DEBUG:cmdstanpy:CmdStan args: ['/usr/local/lib/python3.12/dist-packages/prophet/stan_model/prophet_model.bin', 'random', 'seed=47800', 'data', 'file=/tmp/tmp4ejm6sh6/uialz3rh.json', 'init=/tmp/tmp4ejm6sh6/tbxz8xyw.json', 'output', 'file=/tmp/tmp4ejm6sh6/prophet_models2tdaxtu/prophet_model-20250923181930.csv', 'method=optimize', 'algorithm=lbfgs', 'iter=10000']\n",
            "18:19:30 - cmdstanpy - INFO - Chain [1] start processing\n",
            "INFO:cmdstanpy:Chain [1] start processing\n",
            "18:19:30 - cmdstanpy - INFO - Chain [1] done processing\n",
            "INFO:cmdstanpy:Chain [1] done processing\n"
          ]
        },
        {
          "output_type": "stream",
          "name": "stdout",
          "text": [
            "Trained MUL: years=72, MAE=3954.8, RMSE=4096.2, MAPE=111.45%, PredNext=3369.8, MSY=6010.1, Overfishing=False\n"
          ]
        },
        {
          "output_type": "stream",
          "name": "stderr",
          "text": [
            "INFO:prophet:n_changepoints greater than number of observations. Using 9.\n",
            "DEBUG:cmdstanpy:input tempfile: /tmp/tmp4ejm6sh6/gn5y86o5.json\n",
            "DEBUG:cmdstanpy:input tempfile: /tmp/tmp4ejm6sh6/3v3mnrxg.json\n",
            "DEBUG:cmdstanpy:idx 0\n",
            "DEBUG:cmdstanpy:running CmdStan, num_threads: None\n",
            "DEBUG:cmdstanpy:CmdStan args: ['/usr/local/lib/python3.12/dist-packages/prophet/stan_model/prophet_model.bin', 'random', 'seed=10367', 'data', 'file=/tmp/tmp4ejm6sh6/gn5y86o5.json', 'init=/tmp/tmp4ejm6sh6/3v3mnrxg.json', 'output', 'file=/tmp/tmp4ejm6sh6/prophet_modelukz0hu23/prophet_model-20250923181931.csv', 'method=optimize', 'algorithm=newton', 'iter=10000']\n",
            "18:19:31 - cmdstanpy - INFO - Chain [1] start processing\n",
            "INFO:cmdstanpy:Chain [1] start processing\n",
            "18:19:31 - cmdstanpy - INFO - Chain [1] done processing\n",
            "INFO:cmdstanpy:Chain [1] done processing\n"
          ]
        },
        {
          "output_type": "stream",
          "name": "stdout",
          "text": [
            "Trained MZZ: years=72, MAE=92249.3, RMSE=92884.0, MAPE=52.84%, PredNext=147756.3, MSY=149453.2, Overfishing=False\n"
          ]
        },
        {
          "output_type": "stream",
          "name": "stderr",
          "text": [
            "INFO:prophet:n_changepoints greater than number of observations. Using 15.\n",
            "DEBUG:cmdstanpy:input tempfile: /tmp/tmp4ejm6sh6/g5fgvc0_.json\n",
            "DEBUG:cmdstanpy:input tempfile: /tmp/tmp4ejm6sh6/romrqxb3.json\n",
            "DEBUG:cmdstanpy:idx 0\n",
            "DEBUG:cmdstanpy:running CmdStan, num_threads: None\n",
            "DEBUG:cmdstanpy:CmdStan args: ['/usr/local/lib/python3.12/dist-packages/prophet/stan_model/prophet_model.bin', 'random', 'seed=85817', 'data', 'file=/tmp/tmp4ejm6sh6/g5fgvc0_.json', 'init=/tmp/tmp4ejm6sh6/romrqxb3.json', 'output', 'file=/tmp/tmp4ejm6sh6/prophet_modelbrd0qwzi/prophet_model-20250923181931.csv', 'method=optimize', 'algorithm=newton', 'iter=10000']\n",
            "18:19:31 - cmdstanpy - INFO - Chain [1] start processing\n",
            "INFO:cmdstanpy:Chain [1] start processing\n",
            "18:19:31 - cmdstanpy - INFO - Chain [1] done processing\n",
            "INFO:cmdstanpy:Chain [1] done processing\n"
          ]
        },
        {
          "output_type": "stream",
          "name": "stdout",
          "text": [
            "Trained OCT: years=7, MAE=382.6, RMSE=382.6, MAPE=20.04%, PredNext=507.9, MSY=7221.4, Overfishing=False\n"
          ]
        },
        {
          "output_type": "stream",
          "name": "stderr",
          "text": [
            "DEBUG:cmdstanpy:input tempfile: /tmp/tmp4ejm6sh6/xye3eu3a.json\n",
            "DEBUG:cmdstanpy:input tempfile: /tmp/tmp4ejm6sh6/8fwhciza.json\n",
            "DEBUG:cmdstanpy:idx 0\n",
            "DEBUG:cmdstanpy:running CmdStan, num_threads: None\n",
            "DEBUG:cmdstanpy:CmdStan args: ['/usr/local/lib/python3.12/dist-packages/prophet/stan_model/prophet_model.bin', 'random', 'seed=31075', 'data', 'file=/tmp/tmp4ejm6sh6/xye3eu3a.json', 'init=/tmp/tmp4ejm6sh6/8fwhciza.json', 'output', 'file=/tmp/tmp4ejm6sh6/prophet_model5yhry2rh/prophet_model-20250923181932.csv', 'method=optimize', 'algorithm=lbfgs', 'iter=10000']\n",
            "18:19:32 - cmdstanpy - INFO - Chain [1] start processing\n",
            "INFO:cmdstanpy:Chain [1] start processing\n",
            "18:19:32 - cmdstanpy - INFO - Chain [1] done processing\n",
            "INFO:cmdstanpy:Chain [1] done processing\n"
          ]
        },
        {
          "output_type": "stream",
          "name": "stdout",
          "text": [
            "Trained ONI: years=11, MAE=263400.1, RMSE=263403.7, MAPE=2335.88%, PredNext=307927.8, MSY=20182.0, Overfishing=True\n"
          ]
        },
        {
          "output_type": "stream",
          "name": "stderr",
          "text": [
            "INFO:prophet:n_changepoints greater than number of observations. Using 19.\n",
            "DEBUG:cmdstanpy:input tempfile: /tmp/tmp4ejm6sh6/38v_7wyq.json\n",
            "DEBUG:cmdstanpy:input tempfile: /tmp/tmp4ejm6sh6/gs0_coqm.json\n",
            "DEBUG:cmdstanpy:idx 0\n",
            "DEBUG:cmdstanpy:running CmdStan, num_threads: None\n",
            "DEBUG:cmdstanpy:CmdStan args: ['/usr/local/lib/python3.12/dist-packages/prophet/stan_model/prophet_model.bin', 'random', 'seed=70918', 'data', 'file=/tmp/tmp4ejm6sh6/38v_7wyq.json', 'init=/tmp/tmp4ejm6sh6/gs0_coqm.json', 'output', 'file=/tmp/tmp4ejm6sh6/prophet_modelq1yh01ah/prophet_model-20250923181932.csv', 'method=optimize', 'algorithm=newton', 'iter=10000']\n",
            "18:19:32 - cmdstanpy - INFO - Chain [1] start processing\n",
            "INFO:cmdstanpy:Chain [1] start processing\n",
            "18:19:32 - cmdstanpy - INFO - Chain [1] done processing\n",
            "INFO:cmdstanpy:Chain [1] done processing\n"
          ]
        },
        {
          "output_type": "stream",
          "name": "stdout",
          "text": [
            "Trained PCX: years=72, MAE=658.7, RMSE=664.0, MAPE=28.09%, PredNext=686.5, MSY=6092.1, Overfishing=False\n"
          ]
        },
        {
          "output_type": "stream",
          "name": "stderr",
          "text": [
            "DEBUG:cmdstanpy:input tempfile: /tmp/tmp4ejm6sh6/7y9ee077.json\n",
            "DEBUG:cmdstanpy:input tempfile: /tmp/tmp4ejm6sh6/00qb7p7u.json\n",
            "DEBUG:cmdstanpy:idx 0\n",
            "DEBUG:cmdstanpy:running CmdStan, num_threads: None\n",
            "DEBUG:cmdstanpy:CmdStan args: ['/usr/local/lib/python3.12/dist-packages/prophet/stan_model/prophet_model.bin', 'random', 'seed=65060', 'data', 'file=/tmp/tmp4ejm6sh6/7y9ee077.json', 'init=/tmp/tmp4ejm6sh6/00qb7p7u.json', 'output', 'file=/tmp/tmp4ejm6sh6/prophet_modelb3vxkf6u/prophet_model-20250923181933.csv', 'method=optimize', 'algorithm=lbfgs', 'iter=10000']\n",
            "18:19:33 - cmdstanpy - INFO - Chain [1] start processing\n",
            "INFO:cmdstanpy:Chain [1] start processing\n",
            "18:19:33 - cmdstanpy - INFO - Chain [1] done processing\n",
            "INFO:cmdstanpy:Chain [1] done processing\n"
          ]
        },
        {
          "output_type": "stream",
          "name": "stdout",
          "text": [
            "Trained PEN: years=28, MAE=2640.2, RMSE=2672.3, MAPE=9.15%, PredNext=27917.5, MSY=21288.7, Overfishing=True\n"
          ]
        },
        {
          "output_type": "stream",
          "name": "stderr",
          "text": [
            "DEBUG:cmdstanpy:input tempfile: /tmp/tmp4ejm6sh6/5cg6dovz.json\n",
            "DEBUG:cmdstanpy:input tempfile: /tmp/tmp4ejm6sh6/bdrf4d5f.json\n",
            "DEBUG:cmdstanpy:idx 0\n",
            "DEBUG:cmdstanpy:running CmdStan, num_threads: None\n",
            "DEBUG:cmdstanpy:CmdStan args: ['/usr/local/lib/python3.12/dist-packages/prophet/stan_model/prophet_model.bin', 'random', 'seed=51800', 'data', 'file=/tmp/tmp4ejm6sh6/5cg6dovz.json', 'init=/tmp/tmp4ejm6sh6/bdrf4d5f.json', 'output', 'file=/tmp/tmp4ejm6sh6/prophet_modeloxpidc5w/prophet_model-20250923181933.csv', 'method=optimize', 'algorithm=lbfgs', 'iter=10000']\n",
            "18:19:33 - cmdstanpy - INFO - Chain [1] start processing\n",
            "INFO:cmdstanpy:Chain [1] start processing\n",
            "18:19:33 - cmdstanpy - INFO - Chain [1] done processing\n",
            "INFO:cmdstanpy:Chain [1] done processing\n"
          ]
        },
        {
          "output_type": "stream",
          "name": "stdout",
          "text": [
            "Trained PON: years=72, MAE=15391.4, RMSE=16597.0, MAPE=80.78%, PredNext=38114.5, MSY=28720.6, Overfishing=True\n"
          ]
        },
        {
          "output_type": "stream",
          "name": "stderr",
          "text": [
            "DEBUG:cmdstanpy:input tempfile: /tmp/tmp4ejm6sh6/_fy1jj17.json\n",
            "DEBUG:cmdstanpy:input tempfile: /tmp/tmp4ejm6sh6/b3nydcf9.json\n",
            "DEBUG:cmdstanpy:idx 0\n",
            "DEBUG:cmdstanpy:running CmdStan, num_threads: None\n",
            "DEBUG:cmdstanpy:CmdStan args: ['/usr/local/lib/python3.12/dist-packages/prophet/stan_model/prophet_model.bin', 'random', 'seed=59202', 'data', 'file=/tmp/tmp4ejm6sh6/_fy1jj17.json', 'init=/tmp/tmp4ejm6sh6/b3nydcf9.json', 'output', 'file=/tmp/tmp4ejm6sh6/prophet_modeledb14mww/prophet_model-20250923181933.csv', 'method=optimize', 'algorithm=lbfgs', 'iter=10000']\n",
            "18:19:33 - cmdstanpy - INFO - Chain [1] start processing\n",
            "INFO:cmdstanpy:Chain [1] start processing\n",
            "18:19:34 - cmdstanpy - INFO - Chain [1] done processing\n",
            "INFO:cmdstanpy:Chain [1] done processing\n"
          ]
        },
        {
          "output_type": "stream",
          "name": "stdout",
          "text": [
            "Trained POX: years=57, MAE=2996.6, RMSE=3171.2, MAPE=299657.52%, PredNext=1964.4, MSY=3069.0, Overfishing=False\n"
          ]
        },
        {
          "output_type": "stream",
          "name": "stderr",
          "text": [
            "DEBUG:cmdstanpy:input tempfile: /tmp/tmp4ejm6sh6/_lvamheq.json\n",
            "DEBUG:cmdstanpy:input tempfile: /tmp/tmp4ejm6sh6/p_15a4td.json\n",
            "DEBUG:cmdstanpy:idx 0\n",
            "DEBUG:cmdstanpy:running CmdStan, num_threads: None\n",
            "DEBUG:cmdstanpy:CmdStan args: ['/usr/local/lib/python3.12/dist-packages/prophet/stan_model/prophet_model.bin', 'random', 'seed=72174', 'data', 'file=/tmp/tmp4ejm6sh6/_lvamheq.json', 'init=/tmp/tmp4ejm6sh6/p_15a4td.json', 'output', 'file=/tmp/tmp4ejm6sh6/prophet_modelwfev9wo0/prophet_model-20250923181934.csv', 'method=optimize', 'algorithm=lbfgs', 'iter=10000']\n",
            "18:19:34 - cmdstanpy - INFO - Chain [1] start processing\n",
            "INFO:cmdstanpy:Chain [1] start processing\n",
            "18:19:34 - cmdstanpy - INFO - Chain [1] done processing\n",
            "INFO:cmdstanpy:Chain [1] done processing\n"
          ]
        },
        {
          "output_type": "stream",
          "name": "stdout",
          "text": [
            "Trained PRC: years=72, MAE=40141.6, RMSE=40161.2, MAPE=4014155.67%, PredNext=43568.2, MSY=24127.7, Overfishing=True\n"
          ]
        },
        {
          "output_type": "stream",
          "name": "stderr",
          "text": [
            "INFO:prophet:n_changepoints greater than number of observations. Using 9.\n",
            "DEBUG:cmdstanpy:input tempfile: /tmp/tmp4ejm6sh6/o0dwoqmk.json\n",
            "DEBUG:cmdstanpy:input tempfile: /tmp/tmp4ejm6sh6/um8ydatx.json\n",
            "DEBUG:cmdstanpy:idx 0\n",
            "DEBUG:cmdstanpy:running CmdStan, num_threads: None\n",
            "DEBUG:cmdstanpy:CmdStan args: ['/usr/local/lib/python3.12/dist-packages/prophet/stan_model/prophet_model.bin', 'random', 'seed=62711', 'data', 'file=/tmp/tmp4ejm6sh6/o0dwoqmk.json', 'init=/tmp/tmp4ejm6sh6/um8ydatx.json', 'output', 'file=/tmp/tmp4ejm6sh6/prophet_model5a4o0och/prophet_model-20250923181934.csv', 'method=optimize', 'algorithm=newton', 'iter=10000']\n",
            "18:19:34 - cmdstanpy - INFO - Chain [1] start processing\n",
            "INFO:cmdstanpy:Chain [1] start processing\n",
            "18:19:34 - cmdstanpy - INFO - Chain [1] done processing\n",
            "INFO:cmdstanpy:Chain [1] done processing\n"
          ]
        },
        {
          "output_type": "stream",
          "name": "stdout",
          "text": [
            "Trained RAG: years=72, MAE=14924.7, RMSE=20155.2, MAPE=12.77%, PredNext=147715.1, MSY=62119.9, Overfishing=True\n"
          ]
        },
        {
          "output_type": "stream",
          "name": "stderr",
          "text": [
            "DEBUG:cmdstanpy:input tempfile: /tmp/tmp4ejm6sh6/vkv0cho0.json\n",
            "DEBUG:cmdstanpy:input tempfile: /tmp/tmp4ejm6sh6/qlemtw2v.json\n",
            "DEBUG:cmdstanpy:idx 0\n",
            "DEBUG:cmdstanpy:running CmdStan, num_threads: None\n",
            "DEBUG:cmdstanpy:CmdStan args: ['/usr/local/lib/python3.12/dist-packages/prophet/stan_model/prophet_model.bin', 'random', 'seed=32310', 'data', 'file=/tmp/tmp4ejm6sh6/vkv0cho0.json', 'init=/tmp/tmp4ejm6sh6/qlemtw2v.json', 'output', 'file=/tmp/tmp4ejm6sh6/prophet_modeldn5vklmf/prophet_model-20250923181935.csv', 'method=optimize', 'algorithm=lbfgs', 'iter=10000']\n",
            "18:19:35 - cmdstanpy - INFO - Chain [1] start processing\n",
            "INFO:cmdstanpy:Chain [1] start processing\n",
            "18:19:35 - cmdstanpy - INFO - Chain [1] done processing\n",
            "INFO:cmdstanpy:Chain [1] done processing\n"
          ]
        },
        {
          "output_type": "stream",
          "name": "stdout",
          "text": [
            "Trained SDX: years=7, MAE=6687.7, RMSE=6687.7, MAPE=89.14%, PredNext=-8341.1, MSY=54560.1, Overfishing=False\n"
          ]
        },
        {
          "output_type": "stream",
          "name": "stderr",
          "text": [
            "DEBUG:cmdstanpy:input tempfile: /tmp/tmp4ejm6sh6/t31qsnqe.json\n",
            "DEBUG:cmdstanpy:input tempfile: /tmp/tmp4ejm6sh6/z4j9iamc.json\n",
            "DEBUG:cmdstanpy:idx 0\n",
            "DEBUG:cmdstanpy:running CmdStan, num_threads: None\n",
            "DEBUG:cmdstanpy:CmdStan args: ['/usr/local/lib/python3.12/dist-packages/prophet/stan_model/prophet_model.bin', 'random', 'seed=43898', 'data', 'file=/tmp/tmp4ejm6sh6/t31qsnqe.json', 'init=/tmp/tmp4ejm6sh6/z4j9iamc.json', 'output', 'file=/tmp/tmp4ejm6sh6/prophet_modelci_m8_ff/prophet_model-20250923181935.csv', 'method=optimize', 'algorithm=lbfgs', 'iter=10000']\n",
            "18:19:35 - cmdstanpy - INFO - Chain [1] start processing\n",
            "INFO:cmdstanpy:Chain [1] start processing\n",
            "18:19:35 - cmdstanpy - INFO - Chain [1] done processing\n",
            "INFO:cmdstanpy:Chain [1] done processing\n"
          ]
        },
        {
          "output_type": "stream",
          "name": "stdout",
          "text": [
            "Trained SFA: years=72, MAE=921.3, RMSE=936.0, MAPE=23.82%, PredNext=2727.3, MSY=1186.8, Overfishing=True\n"
          ]
        },
        {
          "output_type": "stream",
          "name": "stderr",
          "text": [
            "DEBUG:cmdstanpy:input tempfile: /tmp/tmp4ejm6sh6/c34vcbuv.json\n",
            "DEBUG:cmdstanpy:input tempfile: /tmp/tmp4ejm6sh6/5_bt4l6f.json\n",
            "DEBUG:cmdstanpy:idx 0\n",
            "DEBUG:cmdstanpy:running CmdStan, num_threads: None\n",
            "DEBUG:cmdstanpy:CmdStan args: ['/usr/local/lib/python3.12/dist-packages/prophet/stan_model/prophet_model.bin', 'random', 'seed=48439', 'data', 'file=/tmp/tmp4ejm6sh6/c34vcbuv.json', 'init=/tmp/tmp4ejm6sh6/5_bt4l6f.json', 'output', 'file=/tmp/tmp4ejm6sh6/prophet_modelpl9x4tlg/prophet_model-20250923181936.csv', 'method=optimize', 'algorithm=lbfgs', 'iter=10000']\n",
            "18:19:36 - cmdstanpy - INFO - Chain [1] start processing\n",
            "INFO:cmdstanpy:Chain [1] start processing\n",
            "18:19:36 - cmdstanpy - INFO - Chain [1] done processing\n",
            "INFO:cmdstanpy:Chain [1] done processing\n"
          ]
        },
        {
          "output_type": "stream",
          "name": "stdout",
          "text": [
            "Trained SKJ: years=72, MAE=1917.4, RMSE=1924.7, MAPE=14.97%, PredNext=16713.4, MSY=4821.5, Overfishing=True\n"
          ]
        },
        {
          "output_type": "stream",
          "name": "stderr",
          "text": [
            "INFO:prophet:n_changepoints greater than number of observations. Using 9.\n",
            "DEBUG:cmdstanpy:input tempfile: /tmp/tmp4ejm6sh6/f0j4zm7e.json\n",
            "DEBUG:cmdstanpy:input tempfile: /tmp/tmp4ejm6sh6/x2qcj8qn.json\n",
            "DEBUG:cmdstanpy:idx 0\n",
            "DEBUG:cmdstanpy:running CmdStan, num_threads: None\n",
            "DEBUG:cmdstanpy:CmdStan args: ['/usr/local/lib/python3.12/dist-packages/prophet/stan_model/prophet_model.bin', 'random', 'seed=1383', 'data', 'file=/tmp/tmp4ejm6sh6/f0j4zm7e.json', 'init=/tmp/tmp4ejm6sh6/x2qcj8qn.json', 'output', 'file=/tmp/tmp4ejm6sh6/prophet_modelzbc8w_ye/prophet_model-20250923181936.csv', 'method=optimize', 'algorithm=newton', 'iter=10000']\n",
            "18:19:36 - cmdstanpy - INFO - Chain [1] start processing\n",
            "INFO:cmdstanpy:Chain [1] start processing\n",
            "18:19:36 - cmdstanpy - INFO - Chain [1] done processing\n",
            "INFO:cmdstanpy:Chain [1] done processing\n"
          ]
        },
        {
          "output_type": "stream",
          "name": "stdout",
          "text": [
            "Trained SKX: years=72, MAE=5575.9, RMSE=7790.2, MAPE=60.97%, PredNext=22056.3, MSY=31410.9, Overfishing=False\n"
          ]
        },
        {
          "output_type": "stream",
          "name": "stderr",
          "text": [
            "DEBUG:cmdstanpy:input tempfile: /tmp/tmp4ejm6sh6/kur8ogzk.json\n",
            "DEBUG:cmdstanpy:input tempfile: /tmp/tmp4ejm6sh6/dg_0p2np.json\n",
            "DEBUG:cmdstanpy:idx 0\n",
            "DEBUG:cmdstanpy:running CmdStan, num_threads: None\n",
            "DEBUG:cmdstanpy:CmdStan args: ['/usr/local/lib/python3.12/dist-packages/prophet/stan_model/prophet_model.bin', 'random', 'seed=65659', 'data', 'file=/tmp/tmp4ejm6sh6/kur8ogzk.json', 'init=/tmp/tmp4ejm6sh6/dg_0p2np.json', 'output', 'file=/tmp/tmp4ejm6sh6/prophet_modelh0ma9c9_/prophet_model-20250923181936.csv', 'method=optimize', 'algorithm=newton', 'iter=10000']\n",
            "18:19:36 - cmdstanpy - INFO - Chain [1] start processing\n",
            "INFO:cmdstanpy:Chain [1] start processing\n",
            "18:19:37 - cmdstanpy - INFO - Chain [1] done processing\n",
            "INFO:cmdstanpy:Chain [1] done processing\n"
          ]
        },
        {
          "output_type": "stream",
          "name": "stdout",
          "text": [
            "Trained SNX: years=7, MAE=669.4, RMSE=669.4, MAPE=13.20%, PredNext=5929.0, MSY=6309.1, Overfishing=False\n"
          ]
        },
        {
          "output_type": "stream",
          "name": "stderr",
          "text": [
            "INFO:prophet:n_changepoints greater than number of observations. Using 9.\n",
            "DEBUG:cmdstanpy:input tempfile: /tmp/tmp4ejm6sh6/3epju3rc.json\n",
            "DEBUG:cmdstanpy:input tempfile: /tmp/tmp4ejm6sh6/k3jt0a7t.json\n",
            "DEBUG:cmdstanpy:idx 0\n",
            "DEBUG:cmdstanpy:running CmdStan, num_threads: None\n",
            "DEBUG:cmdstanpy:CmdStan args: ['/usr/local/lib/python3.12/dist-packages/prophet/stan_model/prophet_model.bin', 'random', 'seed=43218', 'data', 'file=/tmp/tmp4ejm6sh6/3epju3rc.json', 'init=/tmp/tmp4ejm6sh6/k3jt0a7t.json', 'output', 'file=/tmp/tmp4ejm6sh6/prophet_model80cr_gjz/prophet_model-20250923181937.csv', 'method=optimize', 'algorithm=newton', 'iter=10000']\n",
            "18:19:37 - cmdstanpy - INFO - Chain [1] start processing\n",
            "INFO:cmdstanpy:Chain [1] start processing\n",
            "18:19:37 - cmdstanpy - INFO - Chain [1] done processing\n",
            "INFO:cmdstanpy:Chain [1] done processing\n"
          ]
        },
        {
          "output_type": "stream",
          "name": "stdout",
          "text": [
            "Trained SPX: years=52, MAE=0.3, RMSE=0.3, MAPE=26.00%, PredNext=-0.0, MSY=0.2, Overfishing=False\n"
          ]
        },
        {
          "output_type": "stream",
          "name": "stderr",
          "text": [
            "DEBUG:cmdstanpy:input tempfile: /tmp/tmp4ejm6sh6/lbwb8sn2.json\n",
            "DEBUG:cmdstanpy:input tempfile: /tmp/tmp4ejm6sh6/6zu8m5z9.json\n",
            "DEBUG:cmdstanpy:idx 0\n",
            "DEBUG:cmdstanpy:running CmdStan, num_threads: None\n",
            "DEBUG:cmdstanpy:CmdStan args: ['/usr/local/lib/python3.12/dist-packages/prophet/stan_model/prophet_model.bin', 'random', 'seed=23296', 'data', 'file=/tmp/tmp4ejm6sh6/lbwb8sn2.json', 'init=/tmp/tmp4ejm6sh6/6zu8m5z9.json', 'output', 'file=/tmp/tmp4ejm6sh6/prophet_modelcfz75s3c/prophet_model-20250923181937.csv', 'method=optimize', 'algorithm=lbfgs', 'iter=10000']\n",
            "18:19:37 - cmdstanpy - INFO - Chain [1] start processing\n",
            "INFO:cmdstanpy:Chain [1] start processing\n",
            "18:19:37 - cmdstanpy - INFO - Chain [1] done processing\n",
            "INFO:cmdstanpy:Chain [1] done processing\n"
          ]
        },
        {
          "output_type": "stream",
          "name": "stdout",
          "text": [
            "Trained SQU: years=7, MAE=1153.0, RMSE=1153.0, MAPE=10.17%, PredNext=-3136.2, MSY=61841.4, Overfishing=False\n"
          ]
        },
        {
          "output_type": "stream",
          "name": "stderr",
          "text": [
            "INFO:prophet:n_changepoints greater than number of observations. Using 9.\n",
            "DEBUG:cmdstanpy:input tempfile: /tmp/tmp4ejm6sh6/3oktj0vf.json\n",
            "DEBUG:cmdstanpy:input tempfile: /tmp/tmp4ejm6sh6/3le89b9e.json\n",
            "DEBUG:cmdstanpy:idx 0\n",
            "DEBUG:cmdstanpy:running CmdStan, num_threads: None\n",
            "DEBUG:cmdstanpy:CmdStan args: ['/usr/local/lib/python3.12/dist-packages/prophet/stan_model/prophet_model.bin', 'random', 'seed=94639', 'data', 'file=/tmp/tmp4ejm6sh6/3oktj0vf.json', 'init=/tmp/tmp4ejm6sh6/3le89b9e.json', 'output', 'file=/tmp/tmp4ejm6sh6/prophet_modelwj45h35g/prophet_model-20250923181938.csv', 'method=optimize', 'algorithm=newton', 'iter=10000']\n",
            "18:19:38 - cmdstanpy - INFO - Chain [1] start processing\n",
            "INFO:cmdstanpy:Chain [1] start processing\n",
            "18:19:38 - cmdstanpy - INFO - Chain [1] done processing\n",
            "INFO:cmdstanpy:Chain [1] done processing\n"
          ]
        },
        {
          "output_type": "stream",
          "name": "stdout",
          "text": [
            "Trained SSX: years=72, MAE=2.5, RMSE=2.5, MAPE=246.65%, PredNext=3.1, MSY=1.5, Overfishing=True\n"
          ]
        },
        {
          "output_type": "stream",
          "name": "stderr",
          "text": [
            "DEBUG:cmdstanpy:input tempfile: /tmp/tmp4ejm6sh6/m30tfgzr.json\n",
            "DEBUG:cmdstanpy:input tempfile: /tmp/tmp4ejm6sh6/xdi9dgiw.json\n",
            "DEBUG:cmdstanpy:idx 0\n",
            "DEBUG:cmdstanpy:running CmdStan, num_threads: None\n",
            "DEBUG:cmdstanpy:CmdStan args: ['/usr/local/lib/python3.12/dist-packages/prophet/stan_model/prophet_model.bin', 'random', 'seed=57466', 'data', 'file=/tmp/tmp4ejm6sh6/m30tfgzr.json', 'init=/tmp/tmp4ejm6sh6/xdi9dgiw.json', 'output', 'file=/tmp/tmp4ejm6sh6/prophet_modelhifz3r0q/prophet_model-20250923181938.csv', 'method=optimize', 'algorithm=lbfgs', 'iter=10000']\n",
            "18:19:38 - cmdstanpy - INFO - Chain [1] start processing\n",
            "INFO:cmdstanpy:Chain [1] start processing\n",
            "18:19:38 - cmdstanpy - INFO - Chain [1] done processing\n",
            "INFO:cmdstanpy:Chain [1] done processing\n"
          ]
        },
        {
          "output_type": "stream",
          "name": "stdout",
          "text": [
            "Trained STO: years=7, MAE=7482.2, RMSE=7482.2, MAPE=31.16%, PredNext=35087.7, MSY=41700.7, Overfishing=False\n"
          ]
        },
        {
          "output_type": "stream",
          "name": "stderr",
          "text": [
            "INFO:prophet:n_changepoints greater than number of observations. Using 12.\n",
            "DEBUG:cmdstanpy:input tempfile: /tmp/tmp4ejm6sh6/rs8tr650.json\n",
            "DEBUG:cmdstanpy:input tempfile: /tmp/tmp4ejm6sh6/b8sbf7q4.json\n",
            "DEBUG:cmdstanpy:idx 0\n",
            "DEBUG:cmdstanpy:running CmdStan, num_threads: None\n",
            "DEBUG:cmdstanpy:CmdStan args: ['/usr/local/lib/python3.12/dist-packages/prophet/stan_model/prophet_model.bin', 'random', 'seed=5155', 'data', 'file=/tmp/tmp4ejm6sh6/rs8tr650.json', 'init=/tmp/tmp4ejm6sh6/b8sbf7q4.json', 'output', 'file=/tmp/tmp4ejm6sh6/prophet_model3qcdy2kt/prophet_model-20250923181938.csv', 'method=optimize', 'algorithm=newton', 'iter=10000']\n",
            "18:19:38 - cmdstanpy - INFO - Chain [1] start processing\n",
            "INFO:cmdstanpy:Chain [1] start processing\n",
            "18:19:39 - cmdstanpy - INFO - Chain [1] done processing\n",
            "INFO:cmdstanpy:Chain [1] done processing\n"
          ]
        },
        {
          "output_type": "stream",
          "name": "stdout",
          "text": [
            "Trained STS: years=72, MAE=19.6, RMSE=21.2, MAPE=1956.42%, PredNext=20.1, MSY=71.9, Overfishing=False\n"
          ]
        },
        {
          "output_type": "stream",
          "name": "stderr",
          "text": [
            "DEBUG:cmdstanpy:input tempfile: /tmp/tmp4ejm6sh6/2pnlltnc.json\n",
            "DEBUG:cmdstanpy:input tempfile: /tmp/tmp4ejm6sh6/d8qs_od5.json\n",
            "DEBUG:cmdstanpy:idx 0\n",
            "DEBUG:cmdstanpy:running CmdStan, num_threads: None\n",
            "DEBUG:cmdstanpy:CmdStan args: ['/usr/local/lib/python3.12/dist-packages/prophet/stan_model/prophet_model.bin', 'random', 'seed=11276', 'data', 'file=/tmp/tmp4ejm6sh6/2pnlltnc.json', 'init=/tmp/tmp4ejm6sh6/d8qs_od5.json', 'output', 'file=/tmp/tmp4ejm6sh6/prophet_modeljfgr1__y/prophet_model-20250923181939.csv', 'method=optimize', 'algorithm=newton', 'iter=10000']\n",
            "18:19:39 - cmdstanpy - INFO - Chain [1] start processing\n",
            "INFO:cmdstanpy:Chain [1] start processing\n",
            "18:19:39 - cmdstanpy - INFO - Chain [1] done processing\n",
            "INFO:cmdstanpy:Chain [1] done processing\n"
          ]
        },
        {
          "output_type": "stream",
          "name": "stdout",
          "text": [
            "Trained SVX: years=19, MAE=15878.1, RMSE=15926.9, MAPE=304.61%, PredNext=26565.2, MSY=10154.0, Overfishing=True\n"
          ]
        },
        {
          "output_type": "stream",
          "name": "stderr",
          "text": [
            "DEBUG:cmdstanpy:input tempfile: /tmp/tmp4ejm6sh6/z7dqlku9.json\n",
            "DEBUG:cmdstanpy:input tempfile: /tmp/tmp4ejm6sh6/f4a7t8ks.json\n",
            "DEBUG:cmdstanpy:idx 0\n",
            "DEBUG:cmdstanpy:running CmdStan, num_threads: None\n",
            "DEBUG:cmdstanpy:CmdStan args: ['/usr/local/lib/python3.12/dist-packages/prophet/stan_model/prophet_model.bin', 'random', 'seed=31406', 'data', 'file=/tmp/tmp4ejm6sh6/z7dqlku9.json', 'init=/tmp/tmp4ejm6sh6/f4a7t8ks.json', 'output', 'file=/tmp/tmp4ejm6sh6/prophet_modelsurv9uph/prophet_model-20250923181939.csv', 'method=optimize', 'algorithm=newton', 'iter=10000']\n",
            "18:19:39 - cmdstanpy - INFO - Chain [1] start processing\n",
            "INFO:cmdstanpy:Chain [1] start processing\n",
            "18:19:39 - cmdstanpy - INFO - Chain [1] done processing\n",
            "INFO:cmdstanpy:Chain [1] done processing\n"
          ]
        },
        {
          "output_type": "stream",
          "name": "stdout",
          "text": [
            "Trained SWB: years=36, MAE=5277.6, RMSE=5316.1, MAPE=97.14%, PredNext=-2105.2, MSY=10897.7, Overfishing=False\n"
          ]
        },
        {
          "output_type": "stream",
          "name": "stderr",
          "text": [
            "DEBUG:cmdstanpy:input tempfile: /tmp/tmp4ejm6sh6/xjawqpoe.json\n",
            "DEBUG:cmdstanpy:input tempfile: /tmp/tmp4ejm6sh6/v5k_ndjt.json\n",
            "DEBUG:cmdstanpy:idx 0\n",
            "DEBUG:cmdstanpy:running CmdStan, num_threads: None\n",
            "DEBUG:cmdstanpy:CmdStan args: ['/usr/local/lib/python3.12/dist-packages/prophet/stan_model/prophet_model.bin', 'random', 'seed=9968', 'data', 'file=/tmp/tmp4ejm6sh6/xjawqpoe.json', 'init=/tmp/tmp4ejm6sh6/v5k_ndjt.json', 'output', 'file=/tmp/tmp4ejm6sh6/prophet_model1dy4dqbq/prophet_model-20250923181940.csv', 'method=optimize', 'algorithm=lbfgs', 'iter=10000']\n",
            "18:19:40 - cmdstanpy - INFO - Chain [1] start processing\n",
            "INFO:cmdstanpy:Chain [1] start processing\n",
            "18:19:40 - cmdstanpy - INFO - Chain [1] done processing\n",
            "INFO:cmdstanpy:Chain [1] done processing\n"
          ]
        },
        {
          "output_type": "stream",
          "name": "stdout",
          "text": [
            "Trained SWG: years=36, MAE=12736.0, RMSE=12875.1, MAPE=68.19%, PredNext=103.1, MSY=34807.7, Overfishing=False\n"
          ]
        },
        {
          "output_type": "stream",
          "name": "stderr",
          "text": [
            "DEBUG:cmdstanpy:input tempfile: /tmp/tmp4ejm6sh6/jv348vd2.json\n",
            "DEBUG:cmdstanpy:input tempfile: /tmp/tmp4ejm6sh6/564rapg6.json\n",
            "DEBUG:cmdstanpy:idx 0\n",
            "DEBUG:cmdstanpy:running CmdStan, num_threads: None\n",
            "DEBUG:cmdstanpy:CmdStan args: ['/usr/local/lib/python3.12/dist-packages/prophet/stan_model/prophet_model.bin', 'random', 'seed=42347', 'data', 'file=/tmp/tmp4ejm6sh6/jv348vd2.json', 'init=/tmp/tmp4ejm6sh6/564rapg6.json', 'output', 'file=/tmp/tmp4ejm6sh6/prophet_modeljqcb20g4/prophet_model-20250923181940.csv', 'method=optimize', 'algorithm=newton', 'iter=10000']\n",
            "18:19:40 - cmdstanpy - INFO - Chain [1] start processing\n",
            "INFO:cmdstanpy:Chain [1] start processing\n"
          ]
        },
        {
          "output_type": "stream",
          "name": "stdout",
          "text": [
            "Trained SWO: years=72, MAE=536.7, RMSE=604.7, MAPE=124.64%, PredNext=1042.5, MSY=312.5, Overfishing=True\n"
          ]
        },
        {
          "output_type": "stream",
          "name": "stderr",
          "text": [
            "18:19:41 - cmdstanpy - INFO - Chain [1] done processing\n",
            "INFO:cmdstanpy:Chain [1] done processing\n",
            "INFO:prophet:n_changepoints greater than number of observations. Using 11.\n",
            "DEBUG:cmdstanpy:input tempfile: /tmp/tmp4ejm6sh6/pfvgwg_d.json\n",
            "DEBUG:cmdstanpy:input tempfile: /tmp/tmp4ejm6sh6/_fwlyx9d.json\n",
            "DEBUG:cmdstanpy:idx 0\n",
            "DEBUG:cmdstanpy:running CmdStan, num_threads: None\n",
            "DEBUG:cmdstanpy:CmdStan args: ['/usr/local/lib/python3.12/dist-packages/prophet/stan_model/prophet_model.bin', 'random', 'seed=46501', 'data', 'file=/tmp/tmp4ejm6sh6/pfvgwg_d.json', 'init=/tmp/tmp4ejm6sh6/_fwlyx9d.json', 'output', 'file=/tmp/tmp4ejm6sh6/prophet_model6n5ht1gu/prophet_model-20250923181941.csv', 'method=optimize', 'algorithm=newton', 'iter=10000']\n",
            "18:19:41 - cmdstanpy - INFO - Chain [1] start processing\n",
            "INFO:cmdstanpy:Chain [1] start processing\n",
            "18:19:41 - cmdstanpy - INFO - Chain [1] done processing\n",
            "INFO:cmdstanpy:Chain [1] done processing\n"
          ]
        },
        {
          "output_type": "stream",
          "name": "stdout",
          "text": [
            "Trained SWR: years=36, MAE=8393.7, RMSE=8444.7, MAPE=120.36%, PredNext=-4952.1, MSY=15027.1, Overfishing=False\n"
          ]
        },
        {
          "output_type": "stream",
          "name": "stderr",
          "text": [
            "DEBUG:cmdstanpy:input tempfile: /tmp/tmp4ejm6sh6/24g74t76.json\n",
            "DEBUG:cmdstanpy:input tempfile: /tmp/tmp4ejm6sh6/pae2nvqt.json\n",
            "DEBUG:cmdstanpy:idx 0\n",
            "DEBUG:cmdstanpy:running CmdStan, num_threads: None\n",
            "DEBUG:cmdstanpy:CmdStan args: ['/usr/local/lib/python3.12/dist-packages/prophet/stan_model/prophet_model.bin', 'random', 'seed=1413', 'data', 'file=/tmp/tmp4ejm6sh6/24g74t76.json', 'init=/tmp/tmp4ejm6sh6/pae2nvqt.json', 'output', 'file=/tmp/tmp4ejm6sh6/prophet_model2oyuelw_/prophet_model-20250923181942.csv', 'method=optimize', 'algorithm=lbfgs', 'iter=10000']\n",
            "18:19:42 - cmdstanpy - INFO - Chain [1] start processing\n",
            "INFO:cmdstanpy:Chain [1] start processing\n",
            "18:19:42 - cmdstanpy - INFO - Chain [1] done processing\n",
            "INFO:cmdstanpy:Chain [1] done processing\n"
          ]
        },
        {
          "output_type": "stream",
          "name": "stdout",
          "text": [
            "Trained THD: years=8, MAE=1782.6, RMSE=1782.6, MAPE=3.18%, PredNext=54101.8, MSY=92451.1, Overfishing=False\n"
          ]
        },
        {
          "output_type": "stream",
          "name": "stderr",
          "text": [
            "DEBUG:cmdstanpy:input tempfile: /tmp/tmp4ejm6sh6/nfr00fw3.json\n",
            "DEBUG:cmdstanpy:input tempfile: /tmp/tmp4ejm6sh6/9xvrzngu.json\n",
            "DEBUG:cmdstanpy:idx 0\n",
            "DEBUG:cmdstanpy:running CmdStan, num_threads: None\n",
            "DEBUG:cmdstanpy:CmdStan args: ['/usr/local/lib/python3.12/dist-packages/prophet/stan_model/prophet_model.bin', 'random', 'seed=36571', 'data', 'file=/tmp/tmp4ejm6sh6/nfr00fw3.json', 'init=/tmp/tmp4ejm6sh6/9xvrzngu.json', 'output', 'file=/tmp/tmp4ejm6sh6/prophet_model529bft_t/prophet_model-20250923181942.csv', 'method=optimize', 'algorithm=lbfgs', 'iter=10000']\n",
            "18:19:42 - cmdstanpy - INFO - Chain [1] start processing\n",
            "INFO:cmdstanpy:Chain [1] start processing\n",
            "18:19:42 - cmdstanpy - INFO - Chain [1] done processing\n",
            "INFO:cmdstanpy:Chain [1] done processing\n"
          ]
        },
        {
          "output_type": "stream",
          "name": "stdout",
          "text": [
            "Trained THF: years=70, MAE=2015.0, RMSE=2781.7, MAPE=225.31%, PredNext=5269.6, MSY=4954.1, Overfishing=True\n"
          ]
        },
        {
          "output_type": "stream",
          "name": "stderr",
          "text": [
            "DEBUG:cmdstanpy:input tempfile: /tmp/tmp4ejm6sh6/bmjxzcyw.json\n",
            "DEBUG:cmdstanpy:input tempfile: /tmp/tmp4ejm6sh6/l2rby6cz.json\n",
            "DEBUG:cmdstanpy:idx 0\n",
            "DEBUG:cmdstanpy:running CmdStan, num_threads: None\n",
            "DEBUG:cmdstanpy:CmdStan args: ['/usr/local/lib/python3.12/dist-packages/prophet/stan_model/prophet_model.bin', 'random', 'seed=98615', 'data', 'file=/tmp/tmp4ejm6sh6/bmjxzcyw.json', 'init=/tmp/tmp4ejm6sh6/l2rby6cz.json', 'output', 'file=/tmp/tmp4ejm6sh6/prophet_model9fi8fid7/prophet_model-20250923181942.csv', 'method=optimize', 'algorithm=lbfgs', 'iter=10000']\n",
            "18:19:42 - cmdstanpy - INFO - Chain [1] start processing\n",
            "INFO:cmdstanpy:Chain [1] start processing\n",
            "18:19:42 - cmdstanpy - INFO - Chain [1] done processing\n",
            "INFO:cmdstanpy:Chain [1] done processing\n"
          ]
        },
        {
          "output_type": "stream",
          "name": "stdout",
          "text": [
            "Trained TRE: years=72, MAE=29859.9, RMSE=40473.9, MAPE=27.32%, PredNext=61736.7, MSY=25486.5, Overfishing=True\n"
          ]
        },
        {
          "output_type": "stream",
          "name": "stderr",
          "text": [
            "DEBUG:cmdstanpy:input tempfile: /tmp/tmp4ejm6sh6/6q8mmvdp.json\n",
            "DEBUG:cmdstanpy:input tempfile: /tmp/tmp4ejm6sh6/mkz223fs.json\n",
            "DEBUG:cmdstanpy:idx 0\n",
            "DEBUG:cmdstanpy:running CmdStan, num_threads: None\n",
            "DEBUG:cmdstanpy:CmdStan args: ['/usr/local/lib/python3.12/dist-packages/prophet/stan_model/prophet_model.bin', 'random', 'seed=8259', 'data', 'file=/tmp/tmp4ejm6sh6/6q8mmvdp.json', 'init=/tmp/tmp4ejm6sh6/mkz223fs.json', 'output', 'file=/tmp/tmp4ejm6sh6/prophet_model5r2o71g8/prophet_model-20250923181943.csv', 'method=optimize', 'algorithm=lbfgs', 'iter=10000']\n",
            "18:19:43 - cmdstanpy - INFO - Chain [1] start processing\n",
            "INFO:cmdstanpy:Chain [1] start processing\n",
            "18:19:43 - cmdstanpy - INFO - Chain [1] done processing\n",
            "INFO:cmdstanpy:Chain [1] done processing\n"
          ]
        },
        {
          "output_type": "stream",
          "name": "stdout",
          "text": [
            "Trained TRF: years=58, MAE=613.1, RMSE=643.3, MAPE=22.75%, PredNext=4610.6, MSY=4668.5, Overfishing=False\n"
          ]
        },
        {
          "output_type": "stream",
          "name": "stderr",
          "text": [
            "DEBUG:cmdstanpy:input tempfile: /tmp/tmp4ejm6sh6/er45k889.json\n",
            "DEBUG:cmdstanpy:input tempfile: /tmp/tmp4ejm6sh6/51jeoc39.json\n",
            "DEBUG:cmdstanpy:idx 0\n",
            "DEBUG:cmdstanpy:running CmdStan, num_threads: None\n",
            "DEBUG:cmdstanpy:CmdStan args: ['/usr/local/lib/python3.12/dist-packages/prophet/stan_model/prophet_model.bin', 'random', 'seed=38262', 'data', 'file=/tmp/tmp4ejm6sh6/er45k889.json', 'init=/tmp/tmp4ejm6sh6/51jeoc39.json', 'output', 'file=/tmp/tmp4ejm6sh6/prophet_model32p2w1dh/prophet_model-20250923181944.csv', 'method=optimize', 'algorithm=lbfgs', 'iter=10000']\n",
            "18:19:44 - cmdstanpy - INFO - Chain [1] start processing\n",
            "INFO:cmdstanpy:Chain [1] start processing\n",
            "18:19:44 - cmdstanpy - INFO - Chain [1] done processing\n",
            "INFO:cmdstanpy:Chain [1] done processing\n"
          ]
        },
        {
          "output_type": "stream",
          "name": "stdout",
          "text": [
            "Trained TUX: years=72, MAE=0.1, RMSE=0.1, MAPE=10.89%, PredNext=0.1, MSY=0.0, Overfishing=True\n"
          ]
        },
        {
          "output_type": "stream",
          "name": "stderr",
          "text": [
            "DEBUG:cmdstanpy:input tempfile: /tmp/tmp4ejm6sh6/xbr4cq4n.json\n",
            "DEBUG:cmdstanpy:input tempfile: /tmp/tmp4ejm6sh6/a5uejwzc.json\n",
            "DEBUG:cmdstanpy:idx 0\n",
            "DEBUG:cmdstanpy:running CmdStan, num_threads: None\n",
            "DEBUG:cmdstanpy:CmdStan args: ['/usr/local/lib/python3.12/dist-packages/prophet/stan_model/prophet_model.bin', 'random', 'seed=77349', 'data', 'file=/tmp/tmp4ejm6sh6/xbr4cq4n.json', 'init=/tmp/tmp4ejm6sh6/a5uejwzc.json', 'output', 'file=/tmp/tmp4ejm6sh6/prophet_modelukmr87ne/prophet_model-20250923181944.csv', 'method=optimize', 'algorithm=lbfgs', 'iter=10000']\n",
            "18:19:44 - cmdstanpy - INFO - Chain [1] start processing\n",
            "INFO:cmdstanpy:Chain [1] start processing\n",
            "18:19:44 - cmdstanpy - INFO - Chain [1] done processing\n",
            "INFO:cmdstanpy:Chain [1] done processing\n"
          ]
        },
        {
          "output_type": "stream",
          "name": "stdout",
          "text": [
            "Trained UNC: years=72, MAE=447.4, RMSE=572.8, MAPE=12445.78%, PredNext=823.6, MSY=1848.5, Overfishing=False\n"
          ]
        },
        {
          "output_type": "stream",
          "name": "stderr",
          "text": [
            "DEBUG:cmdstanpy:input tempfile: /tmp/tmp4ejm6sh6/iqkiixnn.json\n",
            "DEBUG:cmdstanpy:input tempfile: /tmp/tmp4ejm6sh6/b16bcip2.json\n",
            "DEBUG:cmdstanpy:idx 0\n",
            "DEBUG:cmdstanpy:running CmdStan, num_threads: None\n",
            "DEBUG:cmdstanpy:CmdStan args: ['/usr/local/lib/python3.12/dist-packages/prophet/stan_model/prophet_model.bin', 'random', 'seed=28964', 'data', 'file=/tmp/tmp4ejm6sh6/iqkiixnn.json', 'init=/tmp/tmp4ejm6sh6/b16bcip2.json', 'output', 'file=/tmp/tmp4ejm6sh6/prophet_modelm1jc274f/prophet_model-20250923181944.csv', 'method=optimize', 'algorithm=lbfgs', 'iter=10000']\n",
            "18:19:44 - cmdstanpy - INFO - Chain [1] start processing\n",
            "INFO:cmdstanpy:Chain [1] start processing\n",
            "18:19:44 - cmdstanpy - INFO - Chain [1] done processing\n",
            "INFO:cmdstanpy:Chain [1] done processing\n"
          ]
        },
        {
          "output_type": "stream",
          "name": "stdout",
          "text": [
            "Trained WAH: years=72, MAE=113.4, RMSE=113.5, MAPE=11337.68%, PredNext=117.9, MSY=49.3, Overfishing=True\n",
            "Trained YFT: years=72, MAE=2032.0, RMSE=2036.2, MAPE=16.61%, PredNext=17139.3, MSY=4718.4, Overfishing=True\n",
            "\n",
            "Saved models & metadata to prophet_species_models.pkl\n",
            "Saved plots to directory: species_plots\n"
          ]
        }
      ]
    },
    {
      "cell_type": "code",
      "source": [
        "!zip -r species_plots.zip species_plots/\n"
      ],
      "metadata": {
        "colab": {
          "base_uri": "https://localhost:8080/"
        },
        "id": "IrAzmxJusNLt",
        "outputId": "114d8fb9-3661-4ae9-87d2-0198849b4d40"
      },
      "execution_count": 19,
      "outputs": [
        {
          "output_type": "stream",
          "name": "stdout",
          "text": [
            "  adding: species_plots/ (stored 0%)\n",
            "  adding: species_plots/ALB_forecast.png (deflated 8%)\n",
            "  adding: species_plots/WAH_forecast.png (deflated 7%)\n",
            "  adding: species_plots/PEN_forecast.png (deflated 5%)\n",
            "  adding: species_plots/IOS_forecast.png (deflated 3%)\n",
            "  adding: species_plots/GIT_forecast.png (deflated 3%)\n",
            "  adding: species_plots/MLS_forecast.png (deflated 8%)\n",
            "  adding: species_plots/COM_forecast.png (deflated 3%)\n",
            "  adding: species_plots/BUX_forecast.png (deflated 3%)\n",
            "  adding: species_plots/BIG_forecast.png (deflated 7%)\n",
            "  adding: species_plots/FLY_forecast.png (deflated 5%)\n",
            "  adding: species_plots/CRA_forecast.png (deflated 4%)\n",
            "  adding: species_plots/STO_forecast.png (deflated 6%)\n",
            "  adding: species_plots/FLX_forecast.png (deflated 3%)\n",
            "  adding: species_plots/SKX_forecast.png (deflated 5%)\n",
            "  adding: species_plots/PRC_forecast.png (deflated 5%)\n",
            "  adding: species_plots/UNC_forecast.png (deflated 5%)\n",
            "  adding: species_plots/STS_forecast.png (deflated 6%)\n",
            "  adding: species_plots/CSS_forecast.png (deflated 9%)\n",
            "  adding: species_plots/SQU_forecast.png (deflated 5%)\n",
            "  adding: species_plots/KAW_forecast.png (deflated 3%)\n",
            "  adding: species_plots/LAC_forecast.png (deflated 14%)\n",
            "  adding: species_plots/TRF_forecast.png (deflated 3%)\n",
            "  adding: species_plots/ONI_forecast.png (deflated 8%)\n",
            "  adding: species_plots/RAG_forecast.png (deflated 3%)\n",
            "  adding: species_plots/PON_forecast.png (deflated 3%)\n",
            "  adding: species_plots/EMP_forecast.png (deflated 6%)\n",
            "  adding: species_plots/SVX_forecast.png (deflated 7%)\n",
            "  adding: species_plots/CRU_forecast.png (deflated 6%)\n",
            "  adding: species_plots/SDX_forecast.png (deflated 6%)\n",
            "  adding: species_plots/OCT_forecast.png (deflated 5%)\n",
            "  adding: species_plots/CBA_forecast.png (deflated 14%)\n",
            "  adding: species_plots/SWB_forecast.png (deflated 6%)\n",
            "  adding: species_plots/CAX_forecast.png (deflated 4%)\n",
            "  adding: species_plots/YFT_forecast.png (deflated 5%)\n",
            "  adding: species_plots/MOF_forecast.png (deflated 8%)\n",
            "  adding: species_plots/GOX_forecast.png (deflated 4%)\n",
            "  adding: species_plots/LOX_forecast.png (deflated 4%)\n",
            "  adding: species_plots/JEL_forecast.png (deflated 14%)\n",
            "  adding: species_plots/LOT_forecast.png (deflated 4%)\n",
            "  adding: species_plots/CDX_forecast.png (deflated 3%)\n",
            "  adding: species_plots/MOL_forecast.png (deflated 6%)\n",
            "  adding: species_plots/JKX_forecast.png (deflated 5%)\n",
            "  adding: species_plots/THF_forecast.png (deflated 6%)\n",
            "  adding: species_plots/GUT_forecast.png (deflated 3%)\n",
            "  adding: species_plots/FSI_forecast.png (deflated 6%)\n",
            "  adding: species_plots/BIP_forecast.png (deflated 7%)\n",
            "  adding: species_plots/ANX_forecast.png (deflated 3%)\n",
            "  adding: species_plots/SKJ_forecast.png (deflated 4%)\n",
            "  adding: species_plots/SPX_forecast.png (deflated 7%)\n",
            "  adding: species_plots/JAX_forecast.png (deflated 4%)\n",
            "  adding: species_plots/DCP_forecast.png (deflated 2%)\n",
            "  adding: species_plots/TRE_forecast.png (deflated 4%)\n",
            "  adding: species_plots/SWG_forecast.png (deflated 6%)\n",
            "  adding: species_plots/FSN_forecast.png (deflated 5%)\n",
            "  adding: species_plots/CEP_forecast.png (deflated 4%)\n",
            "  adding: species_plots/HIL_forecast.png (deflated 4%)\n",
            "  adding: species_plots/GPX_forecast.png (deflated 5%)\n",
            "  adding: species_plots/PCX_forecast.png (deflated 4%)\n",
            "  adding: species_plots/TUX_forecast.png (deflated 7%)\n",
            "  adding: species_plots/BET_forecast.png (deflated 6%)\n",
            "  adding: species_plots/BUC_forecast.png (deflated 2%)\n",
            "  adding: species_plots/THD_forecast.png (deflated 5%)\n",
            "  adding: species_plots/BIL_forecast.png (deflated 7%)\n",
            "  adding: species_plots/CTL_forecast.png (deflated 5%)\n",
            "  adding: species_plots/FRG_forecast.png (deflated 5%)\n",
            "  adding: species_plots/POX_forecast.png (deflated 7%)\n",
            "  adding: species_plots/FRF_forecast.png (deflated 5%)\n",
            "  adding: species_plots/FCY_forecast.png (deflated 6%)\n",
            "  adding: species_plots/CLU_forecast.png (deflated 6%)\n",
            "  adding: species_plots/BLT_forecast.png (deflated 5%)\n",
            "  adding: species_plots/BUM_forecast.png (deflated 7%)\n",
            "  adding: species_plots/SWR_forecast.png (deflated 6%)\n",
            "  adding: species_plots/LIX_forecast.png (deflated 5%)\n",
            "  adding: species_plots/MZZ_forecast.png (deflated 4%)\n",
            "  adding: species_plots/FCX_forecast.png (deflated 6%)\n",
            "  adding: species_plots/DCX_forecast.png (deflated 6%)\n",
            "  adding: species_plots/DOS_forecast.png (deflated 5%)\n",
            "  adding: species_plots/SFA_forecast.png (deflated 3%)\n",
            "  adding: species_plots/FRI_forecast.png (deflated 4%)\n",
            "  adding: species_plots/SNX_forecast.png (deflated 5%)\n",
            "  adding: species_plots/SWO_forecast.png (deflated 6%)\n",
            "  adding: species_plots/BAR_forecast.png (deflated 5%)\n",
            "  adding: species_plots/MUL_forecast.png (deflated 4%)\n",
            "  adding: species_plots/BLM_forecast.png (deflated 6%)\n",
            "  adding: species_plots/CUT_forecast.png (deflated 3%)\n",
            "  adding: species_plots/GIP_forecast.png (deflated 14%)\n",
            "  adding: species_plots/SSX_forecast.png (deflated 8%)\n",
            "  adding: species_plots/CGX_forecast.png (deflated 5%)\n"
          ]
        }
      ]
    },
    {
      "cell_type": "code",
      "source": [
        "df['area_code'].unique()"
      ],
      "metadata": {
        "colab": {
          "base_uri": "https://localhost:8080/"
        },
        "id": "JZUaGemI00xF",
        "outputId": "0d1f5a40-a6c2-403f-e692-2251a248bf2d"
      },
      "execution_count": 22,
      "outputs": [
        {
          "output_type": "execute_result",
          "data": {
            "text/plain": [
              "array([ 4, 51, 57, 58])"
            ]
          },
          "metadata": {},
          "execution_count": 22
        }
      ]
    },
    {
      "cell_type": "code",
      "source": [
        "df['species'].unique()"
      ],
      "metadata": {
        "colab": {
          "base_uri": "https://localhost:8080/"
        },
        "id": "-3Ux7g2Q4s_f",
        "outputId": "71ad1be6-0169-460e-8d85-fb9705ed01d7"
      },
      "execution_count": 25,
      "outputs": [
        {
          "output_type": "execute_result",
          "data": {
            "text/plain": [
              "array(['FCY', 'FSI', 'FSN', 'FRF', 'DCX', 'HIL', 'GIP', 'FLX', 'UNC',\n",
              "       'LIX', 'BUC', 'CAX', 'MUL', 'PRC', 'GPX', 'BIG', 'SNX', 'THD',\n",
              "       'PON', 'CDX', 'EMP', 'GOX', 'THF', 'ONI', 'LAC', 'PCX', 'CUT',\n",
              "       'CLU', 'IOS', 'ANX', 'STO', 'DOS', 'TUX', 'BIP', 'WAH', 'COM',\n",
              "       'GUT', 'STS', 'FRI', 'BLT', 'KAW', 'SKJ', 'LOT', 'ALB', 'YFT',\n",
              "       'BET', 'BIL', 'SFA', 'BUM', 'BLM', 'MLS', 'SWO', 'JKX', 'FLY',\n",
              "       'TRF', 'CBA', 'CGX', 'JAX', 'SDX', 'TRE', 'POX', 'RAG', 'BUX',\n",
              "       'BAR', 'SKX', 'MZZ', 'FCX', 'CRA', 'LOX', 'DCP', 'PEN', 'GIT',\n",
              "       'SVX', 'CRU', 'MOF', 'CEP', 'CTL', 'SQU', 'OCT', 'MOL', 'FRG',\n",
              "       'SSX', 'SPX', 'JEL', 'CSS', 'SWB', 'SWR', 'SWG'], dtype=object)"
            ]
          },
          "metadata": {},
          "execution_count": 25
        }
      ]
    },
    {
      "cell_type": "code",
      "source": [
        "mapped_fish = {\n",
        "    'FCY': 'Frigate Tuna',\n",
        "    'FSI': 'Fish Species I',\n",
        "    'FSN': 'Fish Species N',\n",
        "    'FRF': 'Farfish',\n",
        "    'DCX': 'Deepwater Cod',\n",
        "    'HIL': 'Hilsa',\n",
        "    'GIP': 'Unknown',\n",
        "    'FLX': 'Flounder',\n",
        "    'UNC': 'Unclassified Fish',\n",
        "    'LIX': 'Lionfish',\n",
        "    'BUC': 'Blue Crab',\n",
        "    'CAX': 'Caxi',\n",
        "    'MUL': 'Mullet',\n",
        "    'PRC': 'Pacific Cod',\n",
        "    'GPX': 'Garfish',\n",
        "    'BIG': 'Bigeye Fish',\n",
        "    'SNX': 'Snoek',\n",
        "    'THD': 'Threadfin',\n",
        "    'PON': 'Pong',\n",
        "    'CDX': 'Codex',\n",
        "    'EMP': 'Emperor Fish',\n",
        "    'GOX': 'Goby',\n",
        "    'THF': 'Threadfin Fish',\n",
        "    'ONI': 'Onionfish',\n",
        "    'LAC': 'Lacustrine Fish',\n",
        "    'PCX': 'Pacific Cod X',\n",
        "    'CUT': 'Cutlassfish',\n",
        "    'CLU': 'Clupeid',\n",
        "    'IOS': 'Indian Oil Sardine',\n",
        "    'ANX': 'Anchovy',\n",
        "    'STO': 'Stolephorus',\n",
        "    'DOS': 'Dogfish',\n",
        "    'TUX': 'Tuna X',\n",
        "    'BIP': 'Bigeye Tuna',\n",
        "    'WAH': 'Wahoo',\n",
        "    'COM': 'Unknown',\n",
        "    'GUT': 'Unknown',\n",
        "    'STS': 'Sardinella',\n",
        "    'FRI': 'Unknown',\n",
        "    'BLT': 'Unknown',\n",
        "    'KAW': 'Unknown',\n",
        "    'SKJ': 'Unknown',\n",
        "    'LOT': 'Unknown',\n",
        "    'ALB': 'Albacore Tuna',\n",
        "    'YFT': 'Unknown',\n",
        "    'BET': 'Bet Tuna',\n",
        "    'BIL': 'Billfish',\n",
        "    'SFA': 'Unknown',\n",
        "    'BUM': 'Bum Fish',\n",
        "    'BLM': 'Unknown',\n",
        "    'MLS': 'Mullet Species',\n",
        "    'SWO': 'Unknown',\n",
        "    'JKX': 'Jacks',\n",
        "    'FLY': 'Flying Fish',\n",
        "    'TRF': 'Trevally',\n",
        "    'CBA': 'Unknown',\n",
        "    'CGX': 'Carangidae X',\n",
        "    'JAX': 'Jack Species',\n",
        "    'SDX': 'Sardinella DX',\n",
        "    'TRE': 'Threadfin',\n",
        "    'POX': 'Pomfret',\n",
        "    'RAG': 'Ragfish',\n",
        "    'BUX': 'Burbot',\n",
        "    'BAR': 'Barracuda',\n",
        "    'SKX': 'Skipjack',\n",
        "    'MZZ': 'Mackerel ZZ',\n",
        "    'FCX': 'Flatfish CX',\n",
        "    'CRA': 'Crab',\n",
        "    'LOX': 'Lobster',\n",
        "    'DCP': 'Deepwater Cod P',\n",
        "    'PEN': 'Penaeid Shrimp',\n",
        "    'GIT': 'Gilt-head Bream',\n",
        "    'SVX': 'Serranid',\n",
        "    'CRU': 'Unknown',\n",
        "    'MOF': 'Mojarra Fish',\n",
        "    'CEP': 'Cephalopod',\n",
        "    'CTL': 'Cuttlefish',\n",
        "    'SQU': 'Squid',\n",
        "    'OCT': 'Octopus',\n",
        "    'MOL': 'Mollusks',\n",
        "    'FRG': 'Unknown',\n",
        "    'SSX': 'Small Sardine',\n",
        "    'SPX': 'Unknown',\n",
        "    'JEL': 'Jellyfish',\n",
        "    'CSS': 'Unknown',\n",
        "    'SWB': 'Swordfish B',\n",
        "    'SWR': 'Saury',\n",
        "    'SWG': 'Swallowfish'\n",
        "}\n",
        "\n",
        "df['species'] = df['species'].map(mapped_fish)"
      ],
      "metadata": {
        "id": "gaVhKeBR5K7p"
      },
      "execution_count": 26,
      "outputs": []
    },
    {
      "cell_type": "code",
      "source": [
        "df.sample(5)"
      ],
      "metadata": {
        "colab": {
          "base_uri": "https://localhost:8080/",
          "height": 206
        },
        "id": "znHiGE7r72UF",
        "outputId": "b03dcf59-2e3d-4593-dc68-bae386b749b0"
      },
      "execution_count": 27,
      "outputs": [
        {
          "output_type": "execute_result",
          "data": {
            "text/plain": [
              "      year  area_code      species    value status         ds\n",
              "819   1985          4    Blue Crab      0.0    NaN 1985-01-01\n",
              "4387  1977         51      Unknown   6647.0    NaN 1977-01-01\n",
              "3386  1970         51  Bigeye Tuna      4.0    NaN 1970-01-01\n",
              "2610  2012         51      Clupeid  37113.0    NaN 2012-01-01\n",
              "5455  1989         57      Unknown    793.0    NaN 1989-01-01"
            ],
            "text/html": [
              "\n",
              "  <div id=\"df-32de3f81-117e-481b-bd0f-4a684d017199\" class=\"colab-df-container\">\n",
              "    <div>\n",
              "<style scoped>\n",
              "    .dataframe tbody tr th:only-of-type {\n",
              "        vertical-align: middle;\n",
              "    }\n",
              "\n",
              "    .dataframe tbody tr th {\n",
              "        vertical-align: top;\n",
              "    }\n",
              "\n",
              "    .dataframe thead th {\n",
              "        text-align: right;\n",
              "    }\n",
              "</style>\n",
              "<table border=\"1\" class=\"dataframe\">\n",
              "  <thead>\n",
              "    <tr style=\"text-align: right;\">\n",
              "      <th></th>\n",
              "      <th>year</th>\n",
              "      <th>area_code</th>\n",
              "      <th>species</th>\n",
              "      <th>value</th>\n",
              "      <th>status</th>\n",
              "      <th>ds</th>\n",
              "    </tr>\n",
              "  </thead>\n",
              "  <tbody>\n",
              "    <tr>\n",
              "      <th>819</th>\n",
              "      <td>1985</td>\n",
              "      <td>4</td>\n",
              "      <td>Blue Crab</td>\n",
              "      <td>0.0</td>\n",
              "      <td>NaN</td>\n",
              "      <td>1985-01-01</td>\n",
              "    </tr>\n",
              "    <tr>\n",
              "      <th>4387</th>\n",
              "      <td>1977</td>\n",
              "      <td>51</td>\n",
              "      <td>Unknown</td>\n",
              "      <td>6647.0</td>\n",
              "      <td>NaN</td>\n",
              "      <td>1977-01-01</td>\n",
              "    </tr>\n",
              "    <tr>\n",
              "      <th>3386</th>\n",
              "      <td>1970</td>\n",
              "      <td>51</td>\n",
              "      <td>Bigeye Tuna</td>\n",
              "      <td>4.0</td>\n",
              "      <td>NaN</td>\n",
              "      <td>1970-01-01</td>\n",
              "    </tr>\n",
              "    <tr>\n",
              "      <th>2610</th>\n",
              "      <td>2012</td>\n",
              "      <td>51</td>\n",
              "      <td>Clupeid</td>\n",
              "      <td>37113.0</td>\n",
              "      <td>NaN</td>\n",
              "      <td>2012-01-01</td>\n",
              "    </tr>\n",
              "    <tr>\n",
              "      <th>5455</th>\n",
              "      <td>1989</td>\n",
              "      <td>57</td>\n",
              "      <td>Unknown</td>\n",
              "      <td>793.0</td>\n",
              "      <td>NaN</td>\n",
              "      <td>1989-01-01</td>\n",
              "    </tr>\n",
              "  </tbody>\n",
              "</table>\n",
              "</div>\n",
              "    <div class=\"colab-df-buttons\">\n",
              "\n",
              "  <div class=\"colab-df-container\">\n",
              "    <button class=\"colab-df-convert\" onclick=\"convertToInteractive('df-32de3f81-117e-481b-bd0f-4a684d017199')\"\n",
              "            title=\"Convert this dataframe to an interactive table.\"\n",
              "            style=\"display:none;\">\n",
              "\n",
              "  <svg xmlns=\"http://www.w3.org/2000/svg\" height=\"24px\" viewBox=\"0 -960 960 960\">\n",
              "    <path d=\"M120-120v-720h720v720H120Zm60-500h600v-160H180v160Zm220 220h160v-160H400v160Zm0 220h160v-160H400v160ZM180-400h160v-160H180v160Zm440 0h160v-160H620v160ZM180-180h160v-160H180v160Zm440 0h160v-160H620v160Z\"/>\n",
              "  </svg>\n",
              "    </button>\n",
              "\n",
              "  <style>\n",
              "    .colab-df-container {\n",
              "      display:flex;\n",
              "      gap: 12px;\n",
              "    }\n",
              "\n",
              "    .colab-df-convert {\n",
              "      background-color: #E8F0FE;\n",
              "      border: none;\n",
              "      border-radius: 50%;\n",
              "      cursor: pointer;\n",
              "      display: none;\n",
              "      fill: #1967D2;\n",
              "      height: 32px;\n",
              "      padding: 0 0 0 0;\n",
              "      width: 32px;\n",
              "    }\n",
              "\n",
              "    .colab-df-convert:hover {\n",
              "      background-color: #E2EBFA;\n",
              "      box-shadow: 0px 1px 2px rgba(60, 64, 67, 0.3), 0px 1px 3px 1px rgba(60, 64, 67, 0.15);\n",
              "      fill: #174EA6;\n",
              "    }\n",
              "\n",
              "    .colab-df-buttons div {\n",
              "      margin-bottom: 4px;\n",
              "    }\n",
              "\n",
              "    [theme=dark] .colab-df-convert {\n",
              "      background-color: #3B4455;\n",
              "      fill: #D2E3FC;\n",
              "    }\n",
              "\n",
              "    [theme=dark] .colab-df-convert:hover {\n",
              "      background-color: #434B5C;\n",
              "      box-shadow: 0px 1px 3px 1px rgba(0, 0, 0, 0.15);\n",
              "      filter: drop-shadow(0px 1px 2px rgba(0, 0, 0, 0.3));\n",
              "      fill: #FFFFFF;\n",
              "    }\n",
              "  </style>\n",
              "\n",
              "    <script>\n",
              "      const buttonEl =\n",
              "        document.querySelector('#df-32de3f81-117e-481b-bd0f-4a684d017199 button.colab-df-convert');\n",
              "      buttonEl.style.display =\n",
              "        google.colab.kernel.accessAllowed ? 'block' : 'none';\n",
              "\n",
              "      async function convertToInteractive(key) {\n",
              "        const element = document.querySelector('#df-32de3f81-117e-481b-bd0f-4a684d017199');\n",
              "        const dataTable =\n",
              "          await google.colab.kernel.invokeFunction('convertToInteractive',\n",
              "                                                    [key], {});\n",
              "        if (!dataTable) return;\n",
              "\n",
              "        const docLinkHtml = 'Like what you see? Visit the ' +\n",
              "          '<a target=\"_blank\" href=https://colab.research.google.com/notebooks/data_table.ipynb>data table notebook</a>'\n",
              "          + ' to learn more about interactive tables.';\n",
              "        element.innerHTML = '';\n",
              "        dataTable['output_type'] = 'display_data';\n",
              "        await google.colab.output.renderOutput(dataTable, element);\n",
              "        const docLink = document.createElement('div');\n",
              "        docLink.innerHTML = docLinkHtml;\n",
              "        element.appendChild(docLink);\n",
              "      }\n",
              "    </script>\n",
              "  </div>\n",
              "\n",
              "\n",
              "    <div id=\"df-a2929637-e9b9-4a45-8acb-1e17c8a3d43b\">\n",
              "      <button class=\"colab-df-quickchart\" onclick=\"quickchart('df-a2929637-e9b9-4a45-8acb-1e17c8a3d43b')\"\n",
              "                title=\"Suggest charts\"\n",
              "                style=\"display:none;\">\n",
              "\n",
              "<svg xmlns=\"http://www.w3.org/2000/svg\" height=\"24px\"viewBox=\"0 0 24 24\"\n",
              "     width=\"24px\">\n",
              "    <g>\n",
              "        <path d=\"M19 3H5c-1.1 0-2 .9-2 2v14c0 1.1.9 2 2 2h14c1.1 0 2-.9 2-2V5c0-1.1-.9-2-2-2zM9 17H7v-7h2v7zm4 0h-2V7h2v10zm4 0h-2v-4h2v4z\"/>\n",
              "    </g>\n",
              "</svg>\n",
              "      </button>\n",
              "\n",
              "<style>\n",
              "  .colab-df-quickchart {\n",
              "      --bg-color: #E8F0FE;\n",
              "      --fill-color: #1967D2;\n",
              "      --hover-bg-color: #E2EBFA;\n",
              "      --hover-fill-color: #174EA6;\n",
              "      --disabled-fill-color: #AAA;\n",
              "      --disabled-bg-color: #DDD;\n",
              "  }\n",
              "\n",
              "  [theme=dark] .colab-df-quickchart {\n",
              "      --bg-color: #3B4455;\n",
              "      --fill-color: #D2E3FC;\n",
              "      --hover-bg-color: #434B5C;\n",
              "      --hover-fill-color: #FFFFFF;\n",
              "      --disabled-bg-color: #3B4455;\n",
              "      --disabled-fill-color: #666;\n",
              "  }\n",
              "\n",
              "  .colab-df-quickchart {\n",
              "    background-color: var(--bg-color);\n",
              "    border: none;\n",
              "    border-radius: 50%;\n",
              "    cursor: pointer;\n",
              "    display: none;\n",
              "    fill: var(--fill-color);\n",
              "    height: 32px;\n",
              "    padding: 0;\n",
              "    width: 32px;\n",
              "  }\n",
              "\n",
              "  .colab-df-quickchart:hover {\n",
              "    background-color: var(--hover-bg-color);\n",
              "    box-shadow: 0 1px 2px rgba(60, 64, 67, 0.3), 0 1px 3px 1px rgba(60, 64, 67, 0.15);\n",
              "    fill: var(--button-hover-fill-color);\n",
              "  }\n",
              "\n",
              "  .colab-df-quickchart-complete:disabled,\n",
              "  .colab-df-quickchart-complete:disabled:hover {\n",
              "    background-color: var(--disabled-bg-color);\n",
              "    fill: var(--disabled-fill-color);\n",
              "    box-shadow: none;\n",
              "  }\n",
              "\n",
              "  .colab-df-spinner {\n",
              "    border: 2px solid var(--fill-color);\n",
              "    border-color: transparent;\n",
              "    border-bottom-color: var(--fill-color);\n",
              "    animation:\n",
              "      spin 1s steps(1) infinite;\n",
              "  }\n",
              "\n",
              "  @keyframes spin {\n",
              "    0% {\n",
              "      border-color: transparent;\n",
              "      border-bottom-color: var(--fill-color);\n",
              "      border-left-color: var(--fill-color);\n",
              "    }\n",
              "    20% {\n",
              "      border-color: transparent;\n",
              "      border-left-color: var(--fill-color);\n",
              "      border-top-color: var(--fill-color);\n",
              "    }\n",
              "    30% {\n",
              "      border-color: transparent;\n",
              "      border-left-color: var(--fill-color);\n",
              "      border-top-color: var(--fill-color);\n",
              "      border-right-color: var(--fill-color);\n",
              "    }\n",
              "    40% {\n",
              "      border-color: transparent;\n",
              "      border-right-color: var(--fill-color);\n",
              "      border-top-color: var(--fill-color);\n",
              "    }\n",
              "    60% {\n",
              "      border-color: transparent;\n",
              "      border-right-color: var(--fill-color);\n",
              "    }\n",
              "    80% {\n",
              "      border-color: transparent;\n",
              "      border-right-color: var(--fill-color);\n",
              "      border-bottom-color: var(--fill-color);\n",
              "    }\n",
              "    90% {\n",
              "      border-color: transparent;\n",
              "      border-bottom-color: var(--fill-color);\n",
              "    }\n",
              "  }\n",
              "</style>\n",
              "\n",
              "      <script>\n",
              "        async function quickchart(key) {\n",
              "          const quickchartButtonEl =\n",
              "            document.querySelector('#' + key + ' button');\n",
              "          quickchartButtonEl.disabled = true;  // To prevent multiple clicks.\n",
              "          quickchartButtonEl.classList.add('colab-df-spinner');\n",
              "          try {\n",
              "            const charts = await google.colab.kernel.invokeFunction(\n",
              "                'suggestCharts', [key], {});\n",
              "          } catch (error) {\n",
              "            console.error('Error during call to suggestCharts:', error);\n",
              "          }\n",
              "          quickchartButtonEl.classList.remove('colab-df-spinner');\n",
              "          quickchartButtonEl.classList.add('colab-df-quickchart-complete');\n",
              "        }\n",
              "        (() => {\n",
              "          let quickchartButtonEl =\n",
              "            document.querySelector('#df-a2929637-e9b9-4a45-8acb-1e17c8a3d43b button');\n",
              "          quickchartButtonEl.style.display =\n",
              "            google.colab.kernel.accessAllowed ? 'block' : 'none';\n",
              "        })();\n",
              "      </script>\n",
              "    </div>\n",
              "\n",
              "    </div>\n",
              "  </div>\n"
            ],
            "application/vnd.google.colaboratory.intrinsic+json": {
              "type": "dataframe",
              "repr_error": "0"
            }
          },
          "metadata": {},
          "execution_count": 27
        }
      ]
    },
    {
      "cell_type": "code",
      "source": [
        "from google.colab import files\n",
        "files.download(\"species_plots.zip\")\n"
      ],
      "metadata": {
        "colab": {
          "base_uri": "https://localhost:8080/",
          "height": 17
        },
        "id": "nCLNS86PsNIl",
        "outputId": "94d8de23-5f70-48b9-eaf4-d51b87b735b9"
      },
      "execution_count": 20,
      "outputs": [
        {
          "output_type": "display_data",
          "data": {
            "text/plain": [
              "<IPython.core.display.Javascript object>"
            ],
            "application/javascript": [
              "\n",
              "    async function download(id, filename, size) {\n",
              "      if (!google.colab.kernel.accessAllowed) {\n",
              "        return;\n",
              "      }\n",
              "      const div = document.createElement('div');\n",
              "      const label = document.createElement('label');\n",
              "      label.textContent = `Downloading \"${filename}\": `;\n",
              "      div.appendChild(label);\n",
              "      const progress = document.createElement('progress');\n",
              "      progress.max = size;\n",
              "      div.appendChild(progress);\n",
              "      document.body.appendChild(div);\n",
              "\n",
              "      const buffers = [];\n",
              "      let downloaded = 0;\n",
              "\n",
              "      const channel = await google.colab.kernel.comms.open(id);\n",
              "      // Send a message to notify the kernel that we're ready.\n",
              "      channel.send({})\n",
              "\n",
              "      for await (const message of channel.messages) {\n",
              "        // Send a message to notify the kernel that we're ready.\n",
              "        channel.send({})\n",
              "        if (message.buffers) {\n",
              "          for (const buffer of message.buffers) {\n",
              "            buffers.push(buffer);\n",
              "            downloaded += buffer.byteLength;\n",
              "            progress.value = downloaded;\n",
              "          }\n",
              "        }\n",
              "      }\n",
              "      const blob = new Blob(buffers, {type: 'application/binary'});\n",
              "      const a = document.createElement('a');\n",
              "      a.href = window.URL.createObjectURL(blob);\n",
              "      a.download = filename;\n",
              "      div.appendChild(a);\n",
              "      a.click();\n",
              "      div.remove();\n",
              "    }\n",
              "  "
            ]
          },
          "metadata": {}
        },
        {
          "output_type": "display_data",
          "data": {
            "text/plain": [
              "<IPython.core.display.Javascript object>"
            ],
            "application/javascript": [
              "download(\"download_2b75ebeb-ad9a-4ea3-ae4e-ab4ba3fba711\", \"species_plots.zip\", 5390485)"
            ]
          },
          "metadata": {}
        }
      ]
    }
  ]
}